{
 "cells": [
  {
   "cell_type": "markdown",
   "metadata": {
    "id": "2J5uUBWYCvUv"
   },
   "source": [
    "# Đồ án môn Lập trình song song ứng dụng\n",
    "**Giảng viên: Thầy Trần Trung Kiên**\n",
    "\n",
    "## Thông tin nhóm\n",
    "### STT: Nhóm 1\n",
    "\n",
    "### Thành viên:\n",
    "1. 1712892 - Nguyễn Thị Tuyết\n",
    "2. 1712284 - Hoàng Gia Bảo\n",
    "3. 1712685 - Trần Huy Phượng"
   ]
  },
  {
   "cell_type": "markdown",
   "metadata": {
    "id": "hEVeTMU5npM2"
   },
   "source": [
    "## 1. Mô tả ứng dụng"
   ]
  },
  {
   "cell_type": "markdown",
   "metadata": {
    "id": "PpmktJnvoIjg"
   },
   "source": [
    "Tên ứng dụng: **Phát hiện cộng đồng trong mạng xã hội bằng thuật toán Girvan Newman**\n",
    "\n",
    "* Input: Đồ thị vô hướng, không trọng số\n",
    "\n",
    "* Output: Tập hợp các cộng đồng được phát hiện - mỗi cộng đồng được thể hiện là list các node\n",
    "\n",
    "* Ý nghĩa thực tế: có rất nhiều, ví dụ một số ứng dụng:\n",
    "  * Tiếp thị: xác định các cụm khách hàng có chung sở thích trong một mạng thể hiện quan hệ giữa người mua và sản phẩm trên sàn thương mại điện tử để xây dựng hệ thống tư vấn hiệu quả\n",
    "  * Kết bạn, mở rộng mối quan hệ\n",
    "  * ...\n"
   ]
  },
  {
   "cell_type": "markdown",
   "metadata": {
    "id": "8l89mOTouAqs"
   },
   "source": [
    "Khái niệm cộng đồng, được định nghĩa là tập các thực thể có những tính chất \n",
    "tương tự nhau hoặc cùng đóng một vai trò trong một mạng xã hội. \n",
    "\n",
    "Hình dưới đây \n",
    "chỉ ra một ví dụ về đồ thị với cấu trúc cộng đồng trong đó. "
   ]
  },
  {
   "cell_type": "code",
   "execution_count": null,
   "metadata": {
    "colab": {
     "base_uri": "https://localhost:8080/",
     "height": 470
    },
    "id": "pBtMxhqOspS7",
    "outputId": "55da7322-f505-4a7f-d8f4-47e4d8b5701e"
   },
   "outputs": [
    {
     "data": {
      "text/html": [
       "<img src='https://drive.google.com/uc?export=view&amp;id=1lRwfBzDtRg0e7D5UIHQ09r84JeDISF-7'/>"
      ],
      "text/plain": [
       "<IPython.core.display.HTML object>"
      ]
     },
     "metadata": {},
     "output_type": "display_data"
    }
   ],
   "source": [
    "%%html\n",
    "<img src='https://drive.google.com/uc?export=view&amp;id=1lRwfBzDtRg0e7D5UIHQ09r84JeDISF-7'/>"
   ]
  },
  {
   "cell_type": "markdown",
   "metadata": {
    "id": "wR_pkK72nt3V"
   },
   "source": [
    "Ứng dụng này cần phải được tăng tốc do vì khi recommend 1 sản phẩm cho khách hàng, ta cần thời gian nhanh để đem lại trải nghiệm tốt nhất cho khách hàng. Trong khi đó thuật toán Girvan Newman có thời gian thực thi khá chậm nên việc song song hóa là rất cần thiết."
   ]
  },
  {
   "cell_type": "markdown",
   "metadata": {
    "id": "v0zExWhnQgvE"
   },
   "source": [
    "## 2. Tiền xử lí dữ liệu"
   ]
  },
  {
   "cell_type": "markdown",
   "metadata": {
    "id": "Q4IMY7nSQrOf"
   },
   "source": [
    "### 1. Tải dữ liệu"
   ]
  },
  {
   "cell_type": "code",
   "execution_count": null,
   "metadata": {
    "colab": {
     "base_uri": "https://localhost:8080/"
    },
    "id": "Oi3rHcAhQ2dw",
    "outputId": "8d90d1de-b224-428b-ad0a-07706979dac5"
   },
   "outputs": [
    {
     "name": "stdout",
     "output_type": "stream",
     "text": [
      "--2022-05-04 11:21:50--  https://raw.githubusercontent.com/mansiganatra/Girvan-Newman-Implementation-using-Spark/master/ub_sample_data.csv\n",
      "Resolving raw.githubusercontent.com (raw.githubusercontent.com)... 185.199.110.133, 185.199.108.133, 185.199.109.133, ...\n",
      "Connecting to raw.githubusercontent.com (raw.githubusercontent.com)|185.199.110.133|:443... connected.\n",
      "HTTP request sent, awaiting response... 200 OK\n",
      "Length: 1777828 (1.7M) [text/plain]\n",
      "Saving to: ‘ub_sample_data.csv.1’\n",
      "\n",
      "\r",
      "ub_sample_data.csv.   0%[                    ]       0  --.-KB/s               \r",
      "ub_sample_data.csv. 100%[===================>]   1.70M  --.-KB/s    in 0.07s   \n",
      "\n",
      "2022-05-04 11:21:50 (24.4 MB/s) - ‘ub_sample_data.csv.1’ saved [1777828/1777828]\n",
      "\n"
     ]
    }
   ],
   "source": [
    "!wget https://raw.githubusercontent.com/mansiganatra/Girvan-Newman-Implementation-using-Spark/master/ub_sample_data.csv"
   ]
  },
  {
   "cell_type": "code",
   "execution_count": null,
   "metadata": {
    "id": "Gxt4s7PuQ6D6"
   },
   "outputs": [],
   "source": [
    "import csv"
   ]
  },
  {
   "cell_type": "code",
   "execution_count": null,
   "metadata": {
    "id": "g44vFsVmQ7FE"
   },
   "outputs": [],
   "source": [
    "fileData = []\n",
    "header = []\n",
    "with open('ub_sample_data.csv', newline ='') as csvfile:\n",
    "    file = csv.reader(csvfile, delimiter=',')\n",
    "    for row in file:\n",
    "        if not header:\n",
    "            header.append(row)\n",
    "            continue\n",
    "        fileData.append(row)\n",
    "    csvfile.close()"
   ]
  },
  {
   "cell_type": "markdown",
   "metadata": {
    "id": "Nep8r29LRCLF"
   },
   "source": [
    "### 2. Tạo graph từ input"
   ]
  },
  {
   "cell_type": "markdown",
   "metadata": {
    "id": "jQ3u7c8IRQp6"
   },
   "source": [
    "#### Tạo graph"
   ]
  },
  {
   "cell_type": "code",
   "execution_count": null,
   "metadata": {
    "colab": {
     "base_uri": "https://localhost:8080/"
    },
    "id": "u7iCvy85RiPh",
    "outputId": "7ea7ee9a-4e16-46be-d955-b2204e130d3f"
   },
   "outputs": [
    {
     "name": "stdout",
     "output_type": "stream",
     "text": [
      "39FT2Ui8KUXwmUt6hnwy-g ['0FVcoJko1kfZCrJRfssfIA', 'JM0GL6Dx4EuZ1mprLk5Gyg', 'bSUS0YcvS7UelmHvCzNWBA', 'DKolrsBSwMTpTJL22dqJRQ', 'sdLns7062kz3Ur_b8wgeYw', '_VTEyUzzH92X3w-IpGaXVA', 'qtOCfMTrozmUSHWIcohc6Q', 'zBi_JWB5uUdVuz3JLoAxGQ', 'KLB3wIYUwKDPMbijIE92vg', '1KQi8Ymatd4ySAd4fhSfaw', '_Pn-EmWO-pFPFg81ZIEiDw', 'dTeSvET2SR5LDF_J07wJAQ', 'ay4M5J28kBUf0odOQct0BA', 'dzJDCQ5vubQBJTfYTEmcbg', 'mu4XvWvJOb3XpG1C_CHCWA', 'OoyQYSeYNyRVOmdO3tsxYA', 'PE8s8ACYABRNANI-T_WmzA', '79yaBDbLASfIdB-C2c8DzA', 'Uo5dPwoDpYBzOnmUnjxJ6A', 'R4l3ONHzGBakKKNo4TN9iQ', 'bHufZ2OTlC-OUxBDRXxViw', 'ChshgCKJTdIDg17JKtFuJw', 'B0ENvYKQdNNr1Izd2r-BAA']\n",
      "0FVcoJko1kfZCrJRfssfIA ['39FT2Ui8KUXwmUt6hnwy-g', 'LcCRMIDz1JgshpPGYfLDcA', 'bSUS0YcvS7UelmHvCzNWBA', 'DKolrsBSwMTpTJL22dqJRQ', '_VTEyUzzH92X3w-IpGaXVA', 'qtOCfMTrozmUSHWIcohc6Q', 'zBi_JWB5uUdVuz3JLoAxGQ', 'EiwxlbR8fb68lMgEXhcWKA', '4pc_EyanaC3ARh0MZZyouA', 'KLB3wIYUwKDPMbijIE92vg', '2XYdguaaZ7dgi6fAlddujg', 'bE7Yd0jI_P6g27MWEKKalA', '1KQi8Ymatd4ySAd4fhSfaw', '_Pn-EmWO-pFPFg81ZIEiDw', 'dTeSvET2SR5LDF_J07wJAQ', 'ay4M5J28kBUf0odOQct0BA', 'sBqCpEUn0qYdpSF4DbWlAQ', 'OoyQYSeYNyRVOmdO3tsxYA', '7RCz4Ln_FaTvNrdwe251Dg', 'y6jsaAXFstAJkf53R4_y4Q', 'tL2pS5UOmN6aAOi3Z-qFGg', 'SdXxLZQQnQNUEL1rGMOQ6w', 'dW6bAWM1HbPdk_cGS_a2HA', 'CebjpVd3PsofCgotWp60pg', 'KgJdBWS3ReP6TVhYWJRKmg', '2quguRdKBzul3GpRi9e1mA', 'Ams0iLRd0AhZZectGKA8fw', '97j2wkFU46OOgm6ErRAb7w', 'B0ENvYKQdNNr1Izd2r-BAA', 'bJguBxPlnTW29tRTAF0nkQ', 'JLv2Dmfj73-I0d9N41tz1A', 'tRZAC_H5RHrjvyvtufcNXQ', 'e8uzNcSC5tQMD22GNAQEQA', '7Vfy39A_totC-w70qZi0MA', 'UAB1Zyg6Q0oEpXeYRf5K_g', 'voXU5A3FfOcXZ2VNsJ0q4w', 'ma6206bmu-a_Ja7Iv-yRCw', 'yCaDISH0R8e5U376zDWTpQ', 'cm3_8c_NDhPcpwJQ96Aixw', 'BDjiEmXljD2ZHT61Iv9rrQ', 'p9942XebvxZ9ubHm4SXmMQ', 'KtE55izPs1ubJn3ofF2IrA', '0FMte0z-repSVWSJ_BaQTg', 'XPAJ2KHkCwBA0vafF-2Zcg', 'hqmnMdDS-Opjp3BfBJA8qA', 'XUEwSGOGARxW-3gPiGJKUg', 'bbK1mL-AyYCHZncDQ_4RgA', '4PQhC-zTQ4ACEN0-r39JuQ', 'waN6iwcphiVEoCews4f4CA', 'IXD-jdycm7m34b_Nliy82g', 'TjsBbWAfwxWEXPxaLNv5SQ', 'j8Dts8irvVBwEhEEae_-wA', 'sO6iNKgv_ToVfof-aQWgXg']\n",
      "_6Zg4ukwS0kst9UtkfVw3w ['lJFBgSAccsMGwIjfD7LMeQ', 'QRsuZ_LqrRU65dTs5CL4Lw']\n",
      "JM0GL6Dx4EuZ1mprLk5Gyg ['39FT2Ui8KUXwmUt6hnwy-g', 'DKolrsBSwMTpTJL22dqJRQ', 'MtdSCXtmrSxj_uZOJ5ZycQ', 'm1IVpXClMox1VGw5hO2LhQ', 'KLB3wIYUwKDPMbijIE92vg', 'IuaAfrkirlfzY3f4PkgSmw', '1st2ltGKJ00ZcRsev-Ieew', 'dzJDCQ5vubQBJTfYTEmcbg', 'mu4XvWvJOb3XpG1C_CHCWA', 'tekHDsd0fskYG3tqu4sHQw', 'ZA1OT-PIZwz2kdHDA6mShw', 'OoyQYSeYNyRVOmdO3tsxYA', 'hLVq7VSJBHZwqurwWoCmpg', '5fQ9P6kbQM_E0dx8DL6JWA', 'e5kg9bLvlJz-MEUrGjIeVQ', 'TZ974xcbw2kqjYxAhDUYVg', '8oYMqhC5fhqAK_yxRjE7dQ', 'fLnkI1uHtXEsjtF6KoBHbQ', 'ajxohdcsKhRGFlEvHZDyTw', '5DgFmyjW6hkBtXtTMKl4tA', '7G8w2SnaC-qDVQ7_GqTxMg', 'NUtVG7jNPLJR2cxMXMH2-A', 'jcriwcTidug0fK8sgAloHA', 'NlNlyQynkyEU3l7TR3LXdg', 'UYcmGbelzRa0Q6JqzLoguw', 'Zk95TMXDx0zMUhYq5u8pxw', 'JRqMFKGxx6DnTGZrxwQZaA', '2k8OVAPxlXHsA5X6EIoQpQ']\n",
      "LcCRMIDz1JgshpPGYfLDcA ['0FVcoJko1kfZCrJRfssfIA', '_VTEyUzzH92X3w-IpGaXVA', 'zBi_JWB5uUdVuz3JLoAxGQ', '4pc_EyanaC3ARh0MZZyouA', 'y6jsaAXFstAJkf53R4_y4Q', '0QREkWHGO8-Z_70qx1BIWw', 'KHjroLTG6Ah8LyItTyB2yw', '2quguRdKBzul3GpRi9e1mA', 'tAcY4S3vIuNlAoRlCcz5VA']\n"
     ]
    }
   ],
   "source": [
    "filterThreshold = 7\n",
    "setUsers = {}\n",
    "\n",
    "for [user, item] in fileData:\n",
    "    if user not in setUsers:\n",
    "        setUsers[user] = {item}\n",
    "    else:\n",
    "        setUsers[user].add(item)\n",
    "\n",
    "gPyObject = {}\n",
    "\n",
    "# filter and make adjacency list of graph\n",
    "for user1, item1 in setUsers.items():\n",
    "    for user2, item2 in setUsers.items():\n",
    "        if user1 == user2: continue\n",
    "        if(len(item1 & item2) >= filterThreshold):\n",
    "            if user1 not in gPyObject:\n",
    "                gPyObject[user1] = [user2]\n",
    "            else:\n",
    "                gPyObject[user1].append(user2)\n",
    "cnt = 0\n",
    "for key, val in gPyObject.items():\n",
    "    print(key, val)\n",
    "    cnt += 1\n",
    "    if cnt == 5:\n",
    "        break"
   ]
  },
  {
   "cell_type": "markdown",
   "metadata": {
    "id": "_yioyezSRqdR"
   },
   "source": [
    "#### Thay đổi định dạng user từ string sang integer"
   ]
  },
  {
   "cell_type": "code",
   "execution_count": null,
   "metadata": {
    "colab": {
     "base_uri": "https://localhost:8080/"
    },
    "id": "1vaYPTKGR2GS",
    "outputId": "8c5b8563-144d-4ebb-91dc-82f7368083dc"
   },
   "outputs": [
    {
     "data": {
      "text/plain": [
       "[[1,\n",
       "  3,\n",
       "  5,\n",
       "  9,\n",
       "  11,\n",
       "  12,\n",
       "  14,\n",
       "  15,\n",
       "  18,\n",
       "  22,\n",
       "  23,\n",
       "  24,\n",
       "  26,\n",
       "  29,\n",
       "  31,\n",
       "  35,\n",
       "  41,\n",
       "  61,\n",
       "  67,\n",
       "  68,\n",
       "  86,\n",
       "  88,\n",
       "  93],\n",
       " [0,\n",
       "  4,\n",
       "  5,\n",
       "  9,\n",
       "  12,\n",
       "  14,\n",
       "  15,\n",
       "  16,\n",
       "  17,\n",
       "  18,\n",
       "  19,\n",
       "  21,\n",
       "  22,\n",
       "  23,\n",
       "  24,\n",
       "  26,\n",
       "  27,\n",
       "  35,\n",
       "  42,\n",
       "  44,\n",
       "  45,\n",
       "  46,\n",
       "  49,\n",
       "  53,\n",
       "  54,\n",
       "  62,\n",
       "  71,\n",
       "  73,\n",
       "  93,\n",
       "  94,\n",
       "  95,\n",
       "  96,\n",
       "  97,\n",
       "  104,\n",
       "  108,\n",
       "  110,\n",
       "  117,\n",
       "  118,\n",
       "  120,\n",
       "  123,\n",
       "  128,\n",
       "  129,\n",
       "  130,\n",
       "  133,\n",
       "  136,\n",
       "  139,\n",
       "  140,\n",
       "  146,\n",
       "  155,\n",
       "  156,\n",
       "  159,\n",
       "  175,\n",
       "  177],\n",
       " [6, 85],\n",
       " [0,\n",
       "  9,\n",
       "  10,\n",
       "  13,\n",
       "  18,\n",
       "  20,\n",
       "  25,\n",
       "  29,\n",
       "  31,\n",
       "  32,\n",
       "  33,\n",
       "  35,\n",
       "  36,\n",
       "  38,\n",
       "  39,\n",
       "  58,\n",
       "  63,\n",
       "  66,\n",
       "  78,\n",
       "  81,\n",
       "  89,\n",
       "  90,\n",
       "  98,\n",
       "  106,\n",
       "  112,\n",
       "  115,\n",
       "  145,\n",
       "  148],\n",
       " [1, 12, 15, 17, 44, 48, 56, 62, 121]]"
      ]
     },
     "execution_count": 6,
     "metadata": {},
     "output_type": "execute_result"
    }
   ],
   "source": [
    "transferUser = {}\n",
    "cnt = 0\n",
    "for key in gPyObject.keys():\n",
    "    transferUser[key] = cnt\n",
    "    cnt += 1\n",
    "g = [[] for _ in range(cnt)]\n",
    "for key, val in gPyObject.items():\n",
    "    user1 = transferUser[key]\n",
    "    for it in val:\n",
    "        user2 = transferUser[it]\n",
    "        g[user1].append(user2)\n",
    "g[:5]"
   ]
  },
  {
   "cell_type": "markdown",
   "metadata": {
    "id": "DH5CS8WbR5In"
   },
   "source": [
    "#### Ghi graph ra file"
   ]
  },
  {
   "cell_type": "code",
   "execution_count": null,
   "metadata": {
    "id": "ei3VXBSnSA1l"
   },
   "outputs": [],
   "source": [
    "with open('graph.txt', \"w+\") as fp:\n",
    "    fp.write(str(cnt))\n",
    "    fp.write(\"\\n\")\n",
    "    for i in g:\n",
    "        line = \" \".join([str(item) for item in i])\n",
    "        fp.write(line)\n",
    "        fp.write(\"\\n\")\n",
    "\n",
    "    fp.close()"
   ]
  },
  {
   "cell_type": "markdown",
   "metadata": {
    "id": "dwyKU-r0hxVS"
   },
   "source": [
    "## 3. Cài đặt tuần tự"
   ]
  },
  {
   "cell_type": "markdown",
   "metadata": {
    "id": "mGGFY8xiwE4Z"
   },
   "source": [
    "Các yêu cầu cơ bản của một thuật toán phát hiện cộng đồng nói chung đó là nó phải tự chỉ được ra một phép phân chia tự nhiên giữa các đỉnh mà không đòi hỏi người ta phải xác định số cộng đồng nên có là bao nhiêu, hay giới hạn trong kích thước của các cộng đồng"
   ]
  },
  {
   "cell_type": "markdown",
   "metadata": {
    "id": "8YFOvFEWvGJJ"
   },
   "source": [
    "### 0. Giới thiệu thuật toán Girvan-Newman"
   ]
  },
  {
   "cell_type": "markdown",
   "metadata": {
    "id": "QKwyceqAvPNr"
   },
   "source": [
    "- Là thuật toán điển hình nhất trong các thuật toán phân chia đồ thị do nó có  ý nghĩa về mặt lịch sử (đánh dấu bước khởi đầu của một thời kỳ mới trong sự phát triển của phát hiện cộng đồng)\n",
    "- Đây là một phương pháp chia nhỏ, trong đó các cạnh được loại bỏ dần dần ra khỏi đồ thị\n",
    "- Các cạnh loại bỏ trong mỗi bước được xác định qua một độ đo trung gian (gọi là betweeness centrality)\n",
    "- Sau khi loại bỏ mỗi cạnh, độ đo trung gian của các cạnh còn lại sẽ được tính lại dựa vào cạnh bị loại bỏ đó"
   ]
  },
  {
   "cell_type": "markdown",
   "metadata": {
    "id": "TPJhE16xSCmX"
   },
   "source": [
    "Betweeness Centrality (tạm dịch: mức độ tập trung) là một độ đo để thể hiện mức độ ảnh hưởng của một nút đối với luồng thông tin trong đồ thị. Nó thường được sử dụng để tìm các nút đóng vai trò là cầu nối từ phần này sang phần khác của đồ thị.\n",
    "\n",
    "Thuật toán tính toán các đường đi ngắn nhất không có trọng số giữa tất cả các cặp nút trong biểu đồ. Mỗi nút nhận được một số điểm, dựa trên số lượng đường đi ngắn nhất đi qua nút. Các nút thường xuyên nằm trên đường đi ngắn nhất giữa các nút khác sẽ có điểm Betweeness Centrality cao hơn."
   ]
  },
  {
   "cell_type": "code",
   "execution_count": 1,
   "metadata": {
    "colab": {
     "base_uri": "https://localhost:8080/",
     "height": 413
    },
    "id": "7gIqW9KWiEUs",
    "outputId": "5226eb91-6211-4ce6-ae86-ba3fca55e9f1"
   },
   "outputs": [
    {
     "data": {
      "text/html": [
       "<img src='https://drive.google.com/uc?export=view&amp;id=1u3b_zAQZixUKqDfqrf08Hd3rxPQJV1-y'/>"
      ],
      "text/plain": [
       "<IPython.core.display.HTML object>"
      ]
     },
     "metadata": {},
     "output_type": "display_data"
    }
   ],
   "source": [
    "%%html\n",
    "<img src='https://drive.google.com/uc?export=view&amp;id=1u3b_zAQZixUKqDfqrf08Hd3rxPQJV1-y'/>"
   ]
  },
  {
   "cell_type": "code",
   "execution_count": 2,
   "metadata": {
    "colab": {
     "base_uri": "https://localhost:8080/",
     "height": 691
    },
    "id": "oaLihwjgiRJ8",
    "outputId": "4bfac446-aec3-42c9-8a6a-8bb90b0c4c48"
   },
   "outputs": [
    {
     "data": {
      "text/html": [
       "<img src='https://drive.google.com/uc?export=view&amp;id=1SmCPyZ-SPMquXkdLVAc3dVbWPc5B7dfS'/>"
      ],
      "text/plain": [
       "<IPython.core.display.HTML object>"
      ]
     },
     "metadata": {},
     "output_type": "display_data"
    }
   ],
   "source": [
    "%%html\n",
    "<img src='https://drive.google.com/uc?export=view&amp;id=1SmCPyZ-SPMquXkdLVAc3dVbWPc5B7dfS'/>"
   ]
  },
  {
   "cell_type": "markdown",
   "metadata": {
    "id": "wAVjh-ESi6nL"
   },
   "source": [
    "### 1. Thiết kế"
   ]
  },
  {
   "cell_type": "markdown",
   "metadata": {
    "id": "rO2PhAp9V4c5"
   },
   "source": [
    "Các bước thực hiện:\n",
    "1. Xác định độ đo betweenness cho các cạnh trong đồ thị bằng thuật toán Girvan Newman\n",
    "2. Loại bỏ cạnh có betweenness lớn nhất khỏi graph\n",
    "3. Tính độ đo modularity để lưu lại cách chia communities tốt nhất\n",
    "4. Thực hiện lại bước 2 đến khi không còn cạnh nào"
   ]
  },
  {
   "cell_type": "markdown",
   "metadata": {
    "id": "YBYuZGXbaAYn"
   },
   "source": [
    "https://colab.research.google.com/drive/1R2Gt2wPEeEL-9_kGfXJRUy24zv1APglX?usp=sharing"
   ]
  },
  {
   "cell_type": "markdown",
   "metadata": {
    "id": "JXAWuEWSi-rq"
   },
   "source": [
    "### 2. Đánh giá"
   ]
  },
  {
   "cell_type": "markdown",
   "metadata": {
    "id": "kxLcIQpnh94F"
   },
   "source": [
    "#### Kịch bản thí nghiệm"
   ]
  },
  {
   "cell_type": "markdown",
   "metadata": {
    "id": "Dgafl808jgQs"
   },
   "source": [
    "Bộ dữ liệu đồ thị sử dụng: 222 đỉnh\n",
    "\n",
    "Thực hiện 2 version: \\\n",
    "    + ver1: code python bình thường \\\n",
    "    + ver2: chuyển code về sử dụng mảng numpy và sử dụng decorator @jit(nopython=True)"
   ]
  },
  {
   "cell_type": "markdown",
   "metadata": {
    "id": "ToHVGBnBiEuR"
   },
   "source": [
    "#### Chạy code và xem kết quả"
   ]
  },
  {
   "cell_type": "code",
   "execution_count": null,
   "metadata": {
    "id": "zMUJnoDHAiDX"
   },
   "outputs": [],
   "source": [
    "import numba\n",
    "import numpy as np"
   ]
  },
  {
   "cell_type": "markdown",
   "metadata": {
    "id": "p3xvMITv-JO9"
   },
   "source": [
    "##### Version 1"
   ]
  },
  {
   "cell_type": "code",
   "execution_count": null,
   "metadata": {
    "id": "PWomGQQVpq8u"
   },
   "outputs": [],
   "source": [
    "# Load graph format for our code\n",
    "f = open(\"graph.txt\", \"r\")\n",
    "vertices = int(f.readline())\n",
    "g = []\n",
    "for i in range(vertices):\n",
    "    line = list(map(int, f.readline().split()))\n",
    "    g.append(line)\n",
    "f.close()"
   ]
  },
  {
   "cell_type": "code",
   "execution_count": null,
   "metadata": {
    "id": "c4ux9-QXrDk0"
   },
   "outputs": [],
   "source": [
    "from queue import Queue"
   ]
  },
  {
   "cell_type": "code",
   "execution_count": null,
   "metadata": {
    "id": "r6QWQY9vpwOn"
   },
   "outputs": [],
   "source": [
    "# Run code\n",
    "bet = [[0 for i in range(vertices)] for i in range(vertices)]\n",
    "INF = 1e9"
   ]
  },
  {
   "cell_type": "code",
   "execution_count": null,
   "metadata": {
    "id": "Du9-yOn0rPyg"
   },
   "outputs": [],
   "source": [
    "def bfs(x : int):\n",
    "    visited = [False for i in range(vertices)] # marked visited\n",
    "    level = [INF for i in range(vertices)] # level of each vertices\n",
    "    parents = [0 for i in range(vertices)] # number of parent lv = lv-1\n",
    "    point = [1 for i in range(vertices)] # point of each vertices\n",
    "    q = Queue() # method: put/ get/ empty\n",
    "    q.put(x)\n",
    "    level[x], parents[x] = 0, 1\n",
    "    maxlv = 0\n",
    "    while not q.empty():\n",
    "        u = q.get()\n",
    "        visited[u] = True\n",
    "        for v in g[u]:\n",
    "            if level[v] + 1 == level[u]: # meet your parent vertices\n",
    "                parents[u] += 1\n",
    "                continue\n",
    "            if not visited[v]: # meet new vertices\n",
    "                visited[v] = True\n",
    "                level[v] = level[u] + 1\n",
    "                maxlv = max(maxlv, level[v])\n",
    "                q.put(v)\n",
    "    \n",
    "    lv = [[] for i in range(maxlv + 1)]\n",
    "    for i in range(vertices):\n",
    "        idx = int(level[i])\n",
    "        if idx != INF:\n",
    "            lv[idx].append(i)\n",
    "\n",
    "    for lvleaf in range(maxlv, 0, -1):\n",
    "        for leaf in lv[lvleaf]:\n",
    "            for parent in g[leaf]:                \n",
    "                if level[parent] + 1 == lvleaf:\n",
    "                    bet[parent][leaf] += point[leaf] / parents[leaf]\n",
    "                    bet[leaf][parent] += point[leaf] / parents[leaf]\n",
    "                    point[parent] += point[leaf] / parents[leaf]"
   ]
  },
  {
   "cell_type": "code",
   "execution_count": null,
   "metadata": {
    "id": "muOUTrOWrdQ2"
   },
   "outputs": [],
   "source": [
    "normalizationFactor = vertices ** 2 - vertices + 1 # C=(n-1)^{2}-(n-1)\n",
    "resBetv1 = []"
   ]
  },
  {
   "cell_type": "code",
   "execution_count": null,
   "metadata": {
    "id": "V9-rNcMXrYa0"
   },
   "outputs": [],
   "source": [
    "def betweenness():\n",
    "    for i in range(vertices):\n",
    "      bfs(i)\n",
    "    for i in range(vertices):\n",
    "        for j in range(vertices):\n",
    "            if j < i: continue\n",
    "            if bet[i][j]: \n",
    "                bet[i][j] *= (2 / (vertices * (vertices - 1)))\n",
    "                bet[i][j] /= 2\n",
    "                bet[j][i] = bet[i][j]\n",
    "                resBetv1.append(f\"({i}, {j}): {bet[i][j]:.6f}\")"
   ]
  },
  {
   "cell_type": "code",
   "execution_count": null,
   "metadata": {
    "colab": {
     "base_uri": "https://localhost:8080/"
    },
    "id": "M5E7-czDBalz",
    "outputId": "2bf31301-640a-4436-9ebf-0e748de46cc4"
   },
   "outputs": [
    {
     "name": "stdout",
     "output_type": "stream",
     "text": [
      "CPU times: user 568 ms, sys: 2.95 ms, total: 571 ms\n",
      "Wall time: 838 ms\n"
     ]
    }
   ],
   "source": [
    "%%time\n",
    "betweenness()"
   ]
  },
  {
   "cell_type": "code",
   "execution_count": null,
   "metadata": {
    "id": "onpxLVHXrTOI"
   },
   "outputs": [],
   "source": [
    "# resBetv1"
   ]
  },
  {
   "cell_type": "markdown",
   "metadata": {
    "id": "xG3qF-kg-xGM"
   },
   "source": [
    "##### Version 2"
   ]
  },
  {
   "cell_type": "code",
   "execution_count": null,
   "metadata": {
    "id": "eRZwThCL_EKd"
   },
   "outputs": [],
   "source": [
    "# Load graph\n",
    "f = open(\"graph.txt\", \"r\")\n",
    "vertices = int(f.readline())\n",
    "g_pyObj = []\n",
    "# print(vertices)\n",
    "for i in range(vertices):\n",
    "    g_pyObj.append(list(map(int, f.readline().split())))\n",
    "f.close()\n",
    "\n",
    "sizeOfG = np.zeros(vertices, dtype=int)\n",
    "g = np.zeros((vertices, vertices), dtype=int)\n",
    "for i in range(vertices):\n",
    "    for j in range(len(g_pyObj[i])):\n",
    "        g[i][j] = g_pyObj[i][j]\n",
    "    sizeOfG[i] = len(g_pyObj[i])\n",
    "\n",
    "bet = np.zeros((vertices, vertices), dtype=float)"
   ]
  },
  {
   "cell_type": "code",
   "execution_count": null,
   "metadata": {
    "id": "R6KKc2H__bov"
   },
   "outputs": [],
   "source": [
    "# @numba.jit(nopython=True)\n",
    "def bfs_v2(x : int, g : np.array, bet : np.array):\n",
    "    visited = np.zeros(vertices, dtype=int)\n",
    "    level = np.empty(vertices, dtype=int)\n",
    "    parents = np.zeros(vertices, dtype=float)\n",
    "    point = np.empty(vertices, dtype=float)\n",
    "    point.fill(1)\n",
    "    level.fill(INF)\n",
    "    q = np.zeros(vertices, dtype=int) # put/ get/ empty\n",
    "    l, r = 0, 0 # left right is begin and end of queue\n",
    "    q[r] = x; r += 1 # put operator\n",
    "    level[x], parents[x] = 0, 1; maxlv = 0; visited[x] = 1\n",
    "    while l < r:\n",
    "        u = q[l]\n",
    "        l += 1       # pop operator\n",
    "        for vindex in range(sizeOfG[u]):\n",
    "            v = g[u][vindex]\n",
    "            if level[v] + 1 == level[u]: # meet your parent vertices\n",
    "                parents[u] += 1\n",
    "                continue\n",
    "            if not visited[v]: # meet new vertices\n",
    "                visited[v] = 1\n",
    "                level[v] = level[u] + 1\n",
    "                if maxlv < level[v]:\n",
    "                    maxlv = level[v]\n",
    "                q[r] = v; r += 1 # put operator\n",
    "\n",
    "    # lv = [[] for i in range(maxlv + 1)]\n",
    "    lv = np.empty((maxlv + 1, vertices), dtype=int)\n",
    "    sizeOfLv = np.zeros(maxlv + 1, dtype=int)\n",
    "    for i in range(vertices):\n",
    "        if level[i] != INF:\n",
    "            newPosition = sizeOfLv[level[i]]\n",
    "            lv[level[i]][newPosition] = i\n",
    "            sizeOfLv[level[i]] += 1\n",
    "\n",
    "    # print(lv)\n",
    "    # print(sizeOfLv)\n",
    "    # print(parents)\n",
    "\n",
    "    for leafLevel in range(maxlv, 0, -1):\n",
    "        for leafIndex in range(sizeOfLv[leafLevel]): #lv[lvleaf]:\n",
    "            # leaf vertices if lv[leaf]\n",
    "            leaf = lv[leafLevel][leafIndex]\n",
    "\n",
    "            for connectedNodeIndex in range(sizeOfG[leaf]):\n",
    "                node = g[leaf][connectedNodeIndex]                \n",
    "                if level[node] + 1 == leafLevel:\n",
    "                    if parents[leaf] == 0: continue\n",
    "                    bet[node][leaf] += point[leaf] / parents[leaf]\n",
    "                    bet[leaf][node] += point[leaf] / parents[leaf]\n",
    "                    point[node] += point[leaf] / parents[leaf]"
   ]
  },
  {
   "cell_type": "code",
   "execution_count": null,
   "metadata": {
    "id": "VIJh6qjH_fPf"
   },
   "outputs": [],
   "source": [
    "normalizationFactor = vertices ** 2 - vertices + 1 # C=(n-1)^{2}-(n-1)\n",
    "resBetv2 = []"
   ]
  },
  {
   "cell_type": "code",
   "execution_count": null,
   "metadata": {
    "id": "ur24L-h8-lkj"
   },
   "outputs": [],
   "source": [
    "def betweenness_v2():\n",
    "    for i in range(vertices):\n",
    "        bfs_v2(i, g, bet)\n",
    "    for i in range(vertices):\n",
    "        for j in range(vertices):\n",
    "            if j < i: continue\n",
    "            if bet[i][j]: \n",
    "                bet[i][j] *= (2 / (vertices * (vertices - 1)))\n",
    "                bet[i][j] /= 2\n",
    "                bet[j][i] = bet[i][j]\n",
    "                resBetv2.append(f\"({i}, {j}): {bet[i][j]:0.6f}\")"
   ]
  },
  {
   "cell_type": "code",
   "execution_count": null,
   "metadata": {
    "colab": {
     "base_uri": "https://localhost:8080/"
    },
    "id": "monkr7MJBXiW",
    "outputId": "df402bd7-1d88-431e-818d-21868f54d5d7"
   },
   "outputs": [
    {
     "name": "stdout",
     "output_type": "stream",
     "text": [
      "CPU times: user 1.37 s, sys: 8.76 ms, total: 1.38 s\n",
      "Wall time: 1.81 s\n"
     ]
    }
   ],
   "source": [
    "%%time\n",
    "betweenness_v2()"
   ]
  },
  {
   "cell_type": "code",
   "execution_count": null,
   "metadata": {
    "id": "DzZ09UW3_gmy"
   },
   "outputs": [],
   "source": [
    "# resBetv2"
   ]
  },
  {
   "cell_type": "markdown",
   "metadata": {
    "id": "vxNMJ9KkiIy7"
   },
   "source": [
    "#### Kiểm tra độ chính xác\n"
   ]
  },
  {
   "cell_type": "markdown",
   "metadata": {
    "id": "qp-9NcG3kwhU"
   },
   "source": [
    "Kiểm tra độ chính xác bằng thư viện NetworkX"
   ]
  },
  {
   "cell_type": "code",
   "execution_count": null,
   "metadata": {
    "id": "RE6QKTrXq-xs"
   },
   "outputs": [],
   "source": [
    "import networkx as nx\n",
    "import matplotlib.pyplot as plt\n",
    "\n",
    "%matplotlib inline"
   ]
  },
  {
   "cell_type": "code",
   "execution_count": null,
   "metadata": {
    "id": "I-TEskof6TqU"
   },
   "outputs": [],
   "source": [
    "# Load graph format for NetworkX\n",
    "f = open(\"graph.txt\", \"r\")\n",
    "vertices = int(f.readline())\n",
    "nx_g = []\n",
    "# print(vertices)\n",
    "for i in range(vertices):\n",
    "    line = list(map(int, f.readline().split()))\n",
    "    for val in line:\n",
    "        # print(val)\n",
    "        nx_g.append((i, val))\n",
    "f.close()"
   ]
  },
  {
   "cell_type": "code",
   "execution_count": null,
   "metadata": {
    "id": "REFZmGk6zdUl"
   },
   "outputs": [],
   "source": [
    "G = nx.Graph(nx_g)"
   ]
  },
  {
   "cell_type": "code",
   "execution_count": null,
   "metadata": {
    "id": "uRj8nNWBzcnJ"
   },
   "outputs": [],
   "source": [
    "nx_bet = nx.edge_betweenness_centrality(G, normalized=True)"
   ]
  },
  {
   "cell_type": "code",
   "execution_count": null,
   "metadata": {
    "id": "P59WLTIwlyGu"
   },
   "outputs": [],
   "source": [
    "res_nx_bet = []\n",
    "for node in sorted(nx_bet):\n",
    "  res_nx_bet.append(f\"({node[0]}, {node[1]}): {nx_bet[node]:.6f}\")\n",
    "\n",
    "# res_nx_bet"
   ]
  },
  {
   "cell_type": "code",
   "execution_count": null,
   "metadata": {
    "colab": {
     "base_uri": "https://localhost:8080/"
    },
    "id": "dxOmLpLld_P1",
    "outputId": "85339a39-71fb-4b99-9d94-bf1d9a13ef3d"
   },
   "outputs": [
    {
     "name": "stdout",
     "output_type": "stream",
     "text": [
      "True\n"
     ]
    }
   ],
   "source": [
    "# TESTING\n",
    "print(resBetv1 == resBetv2)"
   ]
  },
  {
   "cell_type": "code",
   "execution_count": null,
   "metadata": {
    "colab": {
     "base_uri": "https://localhost:8080/"
    },
    "id": "o8ObxebAqpK_",
    "outputId": "376b34c9-a3f8-459c-a232-c6984e8897b2"
   },
   "outputs": [
    {
     "name": "stdout",
     "output_type": "stream",
     "text": [
      "Mean error: 0.0002230699194016532\n"
     ]
    }
   ],
   "source": [
    "err = 0.0\n",
    "for node in nx_bet:\n",
    "  # print(nx_bet[node], bet[node[0]][node[1]])\n",
    "  err += abs(nx_bet[node] - bet[node[0]][node[1]])\n",
    "\n",
    "err /= vertices\n",
    "print('Mean error:', err)"
   ]
  },
  {
   "cell_type": "markdown",
   "metadata": {
    "id": "CDV2YK7OhxYh"
   },
   "source": [
    "## Cài đặt song song"
   ]
  },
  {
   "cell_type": "markdown",
   "metadata": {
    "id": "Tl2cDv-0g2xE"
   },
   "source": [
    "### 1. Thiết kế"
   ]
  },
  {
   "cell_type": "markdown",
   "metadata": {
    "id": "8yHYuHDmhad-"
   },
   "source": [
    "### 2. Đánh giá"
   ]
  },
  {
   "cell_type": "markdown",
   "metadata": {
    "id": "J9K4aZ0HibpW"
   },
   "source": [
    "#### Kịch bản thí nghiệm"
   ]
  },
  {
   "cell_type": "markdown",
   "metadata": {
    "id": "zzuXblpuibxm"
   },
   "source": [
    "#### Chạy code và xem kết quả"
   ]
  },
  {
   "cell_type": "markdown",
   "metadata": {
    "id": "GrMMRrMTib-e"
   },
   "source": [
    "#### Kiểm tra độ chính xác"
   ]
  },
  {
   "cell_type": "markdown",
   "metadata": {
    "id": "fmZorj7eiqe3"
   },
   "source": [
    "## Cài đặt song song & tối ưu hóa"
   ]
  },
  {
   "cell_type": "markdown",
   "metadata": {
    "id": "cCCBMIBsiqfS"
   },
   "source": [
    "### 1. Thiết kế"
   ]
  },
  {
   "cell_type": "markdown",
   "metadata": {
    "id": "s82Li6NViqfT"
   },
   "source": [
    "### 2. Đánh giá"
   ]
  },
  {
   "cell_type": "markdown",
   "metadata": {
    "id": "sL6ENB4BiqfU"
   },
   "source": [
    "#### Kịch bản thí nghiệm"
   ]
  },
  {
   "cell_type": "markdown",
   "metadata": {
    "id": "qkeEFaVDiqfU"
   },
   "source": [
    "#### Chạy code và xem kết quả"
   ]
  },
  {
   "cell_type": "markdown",
   "metadata": {
    "id": "iy3qnB3kiqfU"
   },
   "source": [
    "#### Kiểm tra độ chính xác"
   ]
  }
 ],
 "metadata": {
  "accelerator": "GPU",
  "colab": {
   "collapsed_sections": [
    "Nep8r29LRCLF",
    "jQ3u7c8IRQp6",
    "_yioyezSRqdR",
    "DH5CS8WbR5In",
    "wAVjh-ESi6nL",
    "CDV2YK7OhxYh",
    "Tl2cDv-0g2xE",
    "8yHYuHDmhad-",
    "J9K4aZ0HibpW",
    "zzuXblpuibxm",
    "GrMMRrMTib-e",
    "fmZorj7eiqe3",
    "cCCBMIBsiqfS",
    "s82Li6NViqfT",
    "sL6ENB4BiqfU",
    "qkeEFaVDiqfU",
    "iy3qnB3kiqfU"
   ],
   "name": "Report.ipynb",
   "provenance": []
  },
  "kernelspec": {
   "display_name": "Python 3",
   "language": "python",
   "name": "python3"
  },
  "language_info": {
   "codemirror_mode": {
    "name": "ipython",
    "version": 3
   },
   "file_extension": ".py",
   "mimetype": "text/x-python",
   "name": "python",
   "nbconvert_exporter": "python",
   "pygments_lexer": "ipython3",
   "version": "3.8.3"
  },
  "toc": {
   "base_numbering": 1,
   "nav_menu": {},
   "number_sections": true,
   "sideBar": true,
   "skip_h1_title": false,
   "title_cell": "Table of Contents",
   "title_sidebar": "Contents",
   "toc_cell": false,
   "toc_position": {},
   "toc_section_display": true,
   "toc_window_display": false
  }
 },
 "nbformat": 4,
 "nbformat_minor": 1
}
