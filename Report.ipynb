{
  "nbformat": 4,
  "nbformat_minor": 0,
  "metadata": {
    "colab": {
      "name": "Report.ipynb",
      "provenance": [],
      "collapsed_sections": [],
      "toc_visible": true
    },
    "kernelspec": {
      "name": "python3",
      "display_name": "Python 3"
    },
    "language_info": {
      "name": "python"
    }
  },
  "cells": [
    {
      "cell_type": "markdown",
      "source": [
        "# Đồ án môn Lập trình song song ứng dụng\n",
        "**Giảng viên: Thầy Trần Trung Kiên**\n",
        "\n",
        "## Thông tin nhóm\n",
        "### STT: Nhóm 1\n",
        "\n",
        "### Thành viên:\n",
        "1. 1712892 - Nguyễn Thị Tuyết\n",
        "2. 1712284 - Hoàng Gia Bảo\n",
        "3. 1712685 - Trần Huy Phượng"
      ],
      "metadata": {
        "id": "2J5uUBWYCvUv"
      }
    },
    {
      "cell_type": "markdown",
      "source": [
        "## 1. Mô tả ứng dụng"
      ],
      "metadata": {
        "id": "hEVeTMU5npM2"
      }
    },
    {
      "cell_type": "markdown",
      "source": [
        "Tên ứng dụng: **Phát hiện cộng đồng trong mạng xã hội bằng thuật toán Girvan Newman**\n",
        "\n",
        "* Input: Đồ thị vô hướng, không trọng số\n",
        "\n",
        "* Output: Tập hợp các cộng đồng được phát hiện - mỗi cộng đồng được thể hiện là list các node\n",
        "\n",
        "* Ý nghĩa thực tế: có rất nhiều, ví dụ một số ứng dụng:\n",
        "  * Tiếp thị: xác định các cụm khách hàng có chung sở thích trong một mạng thể hiện quan hệ giữa người mua và sản phẩm trên sàn thương mại điện tử để xây dựng hệ thống tư vấn hiệu quả\n",
        "  * Kết bạn, mở rộng mối quan hệ\n",
        "  * ...\n"
      ],
      "metadata": {
        "id": "PpmktJnvoIjg"
      }
    },
    {
      "cell_type": "markdown",
      "source": [
        "Ứng dụng này cần phải được tăng tốc do vì khi recommend 1 sản phẩm cho khách hàng, ta cần thời gian nhanh để đem lại trải nghiệm tốt nhất cho khách hàng. Trong khi đó thuật toán Girvan Newman có thời gian thực thi khá chậm nên việc song song hóa là rất cần thiết."
      ],
      "metadata": {
        "id": "wR_pkK72nt3V"
      }
    },
    {
      "cell_type": "markdown",
      "source": [
        "# 2. Cài đặt tuần tự"
      ],
      "metadata": {
        "id": "dwyKU-r0hxVS"
      }
    },
    {
      "cell_type": "markdown",
      "source": [
        "## 2.1. Thiết kế"
      ],
      "metadata": {
        "id": "wAVjh-ESi6nL"
      }
    },
    {
      "cell_type": "markdown",
      "source": [
        "Các bước thực hiện:\n",
        "1. Chuyển input thành graph lưu dưới dạng ma trận kề hoặc danh sách kề\n",
        "2. Xác định độ đo betweenness cho các cạnh trong đồ thị bằng thuật toán Girvan Newman\n",
        "3. Loại bỏ cạnh có betweenness lớn nhất khỏi graph\n",
        "4. Tính độ đo modularity để lưu lại cách chia communities tốt nhất\n",
        "5. Thực hiện lại bước 2 đến khi không còn cạnh nào"
      ],
      "metadata": {
        "id": "rO2PhAp9V4c5"
      }
    },
    {
      "cell_type": "markdown",
      "source": [
        "https://colab.research.google.com/drive/1R2Gt2wPEeEL-9_kGfXJRUy24zv1APglX?usp=sharing"
      ],
      "metadata": {
        "id": "YBYuZGXbaAYn"
      }
    },
    {
      "cell_type": "markdown",
      "source": [
        "## 2.2. Đánh giá"
      ],
      "metadata": {
        "id": "JXAWuEWSi-rq"
      }
    },
    {
      "cell_type": "markdown",
      "source": [
        "####Độ đo modularity:\n",
        "sử dụng công thức trên networkx để đánh giá cách chia communities \\\n",
        "####Kiểm tra độ chính xác: \n",
        "Kết quả chia communities tốt nhất với kết quả chạy bằng thư viện networkx\n",
        "####Thời gian chạy:\n",
        "Thực hiện 2 version: \\\n",
        "    + ver1: code python bình thường và thêm decorator @jit \\\n",
        "    + ver2: chuyển code về sử dụng mảng numpy và sử dụng decorator @jit(nopython=True)"
      ],
      "metadata": {
        "id": "Dgafl808jgQs"
      }
    },
    {
      "cell_type": "markdown",
      "source": [
        "# Mục mới"
      ],
      "metadata": {
        "id": "CDV2YK7OhxYh"
      }
    }
  ]
}