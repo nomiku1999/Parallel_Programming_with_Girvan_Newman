{
  "cells": [
    {
      "cell_type": "markdown",
      "metadata": {
        "id": "2J5uUBWYCvUv"
      },
      "source": [
        "# Đồ án môn Lập trình song song ứng dụng\n",
        "**Giảng viên: Thầy Trần Trung Kiên**\n",
        "\n",
        "## Thông tin nhóm\n",
        "### STT: Nhóm 1\n",
        "\n",
        "### Thành viên:\n",
        "1. 1712284 - Hoàng Gia Bảo\n",
        "2. 1712685 - Trần Huy Phượng"
      ]
    },
    {
      "cell_type": "markdown",
      "metadata": {
        "id": "hEVeTMU5npM2"
      },
      "source": [
        "## 1. Mô tả ứng dụng"
      ]
    },
    {
      "cell_type": "markdown",
      "metadata": {
        "id": "PpmktJnvoIjg"
      },
      "source": [
        "Tên ứng dụng: **Phát hiện cộng đồng trong mạng xã hội bằng thuật toán Girvan Newman**\n",
        "\n",
        "* Input: Đồ thị vô hướng, không trọng số\n",
        "\n",
        "* Output: Tập hợp các cộng đồng được phát hiện - mỗi cộng đồng được thể hiện là list các node\n",
        "\n",
        "* Ý nghĩa thực tế: có rất nhiều, ví dụ một số ứng dụng:\n",
        "  * Tiếp thị: xác định các cụm khách hàng có chung sở thích trong một mạng thể hiện quan hệ giữa người mua và sản phẩm trên sàn thương mại điện tử để xây dựng hệ thống tư vấn hiệu quả\n",
        "  * Kết bạn, mở rộng mối quan hệ\n",
        "  * ...\n"
      ]
    },
    {
      "cell_type": "markdown",
      "metadata": {
        "id": "8l89mOTouAqs"
      },
      "source": [
        "Khái niệm cộng đồng, được định nghĩa là tập các thực thể có những tính chất \n",
        "tương tự nhau hoặc cùng đóng một vai trò trong một mạng xã hội. "
      ]
    },
    {
      "cell_type": "markdown",
      "source": [
        "Hình dưới đây thể hiện ví dụ về output của bài toán"
      ],
      "metadata": {
        "id": "PPzr_k2JmuZi"
      }
    },
    {
      "cell_type": "code",
      "source": [
        "%%html\n",
        "<img src='https://drive.google.com/uc?export=view&amp;id=1COUG0WrM545iqLHDcBYtjD0PkYNc5arQ'/>"
      ],
      "metadata": {
        "colab": {
          "base_uri": "https://localhost:8080/",
          "height": 580
        },
        "id": "OfloNmXdmfU6",
        "outputId": "990a69e0-73e0-431f-9e48-7ea631b37b54"
      },
      "execution_count": 1,
      "outputs": [
        {
          "output_type": "display_data",
          "data": {
            "text/plain": [
              "<IPython.core.display.HTML object>"
            ],
            "text/html": [
              "<img src='https://drive.google.com/uc?export=view&amp;id=1COUG0WrM545iqLHDcBYtjD0PkYNc5arQ'/>"
            ]
          },
          "metadata": {}
        }
      ]
    },
    {
      "cell_type": "markdown",
      "metadata": {
        "id": "wR_pkK72nt3V"
      },
      "source": [
        "Ứng dụng này cần phải được tăng tốc do vì khi recommend 1 sản phẩm cho khách hàng, ta cần thời gian nhanh để đem lại trải nghiệm tốt nhất cho khách hàng. Trong khi đó thuật toán Girvan Newman có thời gian thực thi khá chậm nên việc song song hóa là rất cần thiết."
      ]
    },
    {
      "cell_type": "markdown",
      "metadata": {
        "id": "v0zExWhnQgvE"
      },
      "source": [
        "## 2. Tiền xử lí dữ liệu"
      ]
    },
    {
      "cell_type": "markdown",
      "metadata": {
        "id": "Q4IMY7nSQrOf"
      },
      "source": [
        "### 1. Tải dữ liệu"
      ]
    },
    {
      "cell_type": "code",
      "execution_count": 2,
      "metadata": {
        "colab": {
          "base_uri": "https://localhost:8080/"
        },
        "id": "Oi3rHcAhQ2dw",
        "outputId": "a5c83a45-5ebb-47c5-a3b2-62b971aa82fe"
      },
      "outputs": [
        {
          "output_type": "stream",
          "name": "stdout",
          "text": [
            "--2022-05-18 14:40:54--  https://raw.githubusercontent.com/mansiganatra/Girvan-Newman-Implementation-using-Spark/master/ub_sample_data.csv\n",
            "Resolving raw.githubusercontent.com (raw.githubusercontent.com)... 185.199.108.133, 185.199.109.133, 185.199.110.133, ...\n",
            "Connecting to raw.githubusercontent.com (raw.githubusercontent.com)|185.199.108.133|:443... connected.\n",
            "HTTP request sent, awaiting response... 200 OK\n",
            "Length: 1777828 (1.7M) [text/plain]\n",
            "Saving to: ‘ub_sample_data.csv.1’\n",
            "\n",
            "\rub_sample_data.csv.   0%[                    ]       0  --.-KB/s               \rub_sample_data.csv. 100%[===================>]   1.70M  --.-KB/s    in 0.05s   \n",
            "\n",
            "2022-05-18 14:40:55 (30.8 MB/s) - ‘ub_sample_data.csv.1’ saved [1777828/1777828]\n",
            "\n"
          ]
        }
      ],
      "source": [
        "!wget https://raw.githubusercontent.com/mansiganatra/Girvan-Newman-Implementation-using-Spark/master/ub_sample_data.csv"
      ]
    },
    {
      "cell_type": "code",
      "execution_count": 3,
      "metadata": {
        "id": "Gxt4s7PuQ6D6"
      },
      "outputs": [],
      "source": [
        "import csv"
      ]
    },
    {
      "cell_type": "code",
      "execution_count": 4,
      "metadata": {
        "id": "g44vFsVmQ7FE"
      },
      "outputs": [],
      "source": [
        "fileData = []\n",
        "header = []\n",
        "with open('ub_sample_data.csv', newline ='') as csvfile:\n",
        "    file = csv.reader(csvfile, delimiter=',')\n",
        "    for row in file:\n",
        "        if not header:\n",
        "            header.append(row)\n",
        "            continue\n",
        "        fileData.append(row)\n",
        "    csvfile.close()"
      ]
    },
    {
      "cell_type": "markdown",
      "metadata": {
        "id": "Nep8r29LRCLF"
      },
      "source": [
        "### 2. Tạo graph từ input"
      ]
    },
    {
      "cell_type": "markdown",
      "metadata": {
        "id": "jQ3u7c8IRQp6"
      },
      "source": [
        "#### Tạo graph"
      ]
    },
    {
      "cell_type": "code",
      "execution_count": 5,
      "metadata": {
        "colab": {
          "base_uri": "https://localhost:8080/"
        },
        "id": "u7iCvy85RiPh",
        "outputId": "44423544-f1c1-46aa-e367-a0f70fc662f1"
      },
      "outputs": [
        {
          "output_type": "stream",
          "name": "stdout",
          "text": [
            "39FT2Ui8KUXwmUt6hnwy-g ['0FVcoJko1kfZCrJRfssfIA', 'JM0GL6Dx4EuZ1mprLk5Gyg', 'bSUS0YcvS7UelmHvCzNWBA', 'DKolrsBSwMTpTJL22dqJRQ', 'sdLns7062kz3Ur_b8wgeYw', '_VTEyUzzH92X3w-IpGaXVA', 'qtOCfMTrozmUSHWIcohc6Q', 'zBi_JWB5uUdVuz3JLoAxGQ', 'KLB3wIYUwKDPMbijIE92vg', '1KQi8Ymatd4ySAd4fhSfaw', '_Pn-EmWO-pFPFg81ZIEiDw', 'dTeSvET2SR5LDF_J07wJAQ', 'ay4M5J28kBUf0odOQct0BA', 'dzJDCQ5vubQBJTfYTEmcbg', 'mu4XvWvJOb3XpG1C_CHCWA', 'OoyQYSeYNyRVOmdO3tsxYA', 'PE8s8ACYABRNANI-T_WmzA', '79yaBDbLASfIdB-C2c8DzA', 'Uo5dPwoDpYBzOnmUnjxJ6A', 'R4l3ONHzGBakKKNo4TN9iQ', 'bHufZ2OTlC-OUxBDRXxViw', 'ChshgCKJTdIDg17JKtFuJw', 'B0ENvYKQdNNr1Izd2r-BAA']\n",
            "0FVcoJko1kfZCrJRfssfIA ['39FT2Ui8KUXwmUt6hnwy-g', 'LcCRMIDz1JgshpPGYfLDcA', 'bSUS0YcvS7UelmHvCzNWBA', 'DKolrsBSwMTpTJL22dqJRQ', '_VTEyUzzH92X3w-IpGaXVA', 'qtOCfMTrozmUSHWIcohc6Q', 'zBi_JWB5uUdVuz3JLoAxGQ', 'EiwxlbR8fb68lMgEXhcWKA', '4pc_EyanaC3ARh0MZZyouA', 'KLB3wIYUwKDPMbijIE92vg', '2XYdguaaZ7dgi6fAlddujg', 'bE7Yd0jI_P6g27MWEKKalA', '1KQi8Ymatd4ySAd4fhSfaw', '_Pn-EmWO-pFPFg81ZIEiDw', 'dTeSvET2SR5LDF_J07wJAQ', 'ay4M5J28kBUf0odOQct0BA', 'sBqCpEUn0qYdpSF4DbWlAQ', 'OoyQYSeYNyRVOmdO3tsxYA', '7RCz4Ln_FaTvNrdwe251Dg', 'y6jsaAXFstAJkf53R4_y4Q', 'tL2pS5UOmN6aAOi3Z-qFGg', 'SdXxLZQQnQNUEL1rGMOQ6w', 'dW6bAWM1HbPdk_cGS_a2HA', 'CebjpVd3PsofCgotWp60pg', 'KgJdBWS3ReP6TVhYWJRKmg', '2quguRdKBzul3GpRi9e1mA', 'Ams0iLRd0AhZZectGKA8fw', '97j2wkFU46OOgm6ErRAb7w', 'B0ENvYKQdNNr1Izd2r-BAA', 'bJguBxPlnTW29tRTAF0nkQ', 'JLv2Dmfj73-I0d9N41tz1A', 'tRZAC_H5RHrjvyvtufcNXQ', 'e8uzNcSC5tQMD22GNAQEQA', '7Vfy39A_totC-w70qZi0MA', 'UAB1Zyg6Q0oEpXeYRf5K_g', 'voXU5A3FfOcXZ2VNsJ0q4w', 'ma6206bmu-a_Ja7Iv-yRCw', 'yCaDISH0R8e5U376zDWTpQ', 'cm3_8c_NDhPcpwJQ96Aixw', 'BDjiEmXljD2ZHT61Iv9rrQ', 'p9942XebvxZ9ubHm4SXmMQ', 'KtE55izPs1ubJn3ofF2IrA', '0FMte0z-repSVWSJ_BaQTg', 'XPAJ2KHkCwBA0vafF-2Zcg', 'hqmnMdDS-Opjp3BfBJA8qA', 'XUEwSGOGARxW-3gPiGJKUg', 'bbK1mL-AyYCHZncDQ_4RgA', '4PQhC-zTQ4ACEN0-r39JuQ', 'waN6iwcphiVEoCews4f4CA', 'IXD-jdycm7m34b_Nliy82g', 'TjsBbWAfwxWEXPxaLNv5SQ', 'j8Dts8irvVBwEhEEae_-wA', 'sO6iNKgv_ToVfof-aQWgXg']\n",
            "_6Zg4ukwS0kst9UtkfVw3w ['lJFBgSAccsMGwIjfD7LMeQ', 'QRsuZ_LqrRU65dTs5CL4Lw']\n",
            "JM0GL6Dx4EuZ1mprLk5Gyg ['39FT2Ui8KUXwmUt6hnwy-g', 'DKolrsBSwMTpTJL22dqJRQ', 'MtdSCXtmrSxj_uZOJ5ZycQ', 'm1IVpXClMox1VGw5hO2LhQ', 'KLB3wIYUwKDPMbijIE92vg', 'IuaAfrkirlfzY3f4PkgSmw', '1st2ltGKJ00ZcRsev-Ieew', 'dzJDCQ5vubQBJTfYTEmcbg', 'mu4XvWvJOb3XpG1C_CHCWA', 'tekHDsd0fskYG3tqu4sHQw', 'ZA1OT-PIZwz2kdHDA6mShw', 'OoyQYSeYNyRVOmdO3tsxYA', 'hLVq7VSJBHZwqurwWoCmpg', '5fQ9P6kbQM_E0dx8DL6JWA', 'e5kg9bLvlJz-MEUrGjIeVQ', 'TZ974xcbw2kqjYxAhDUYVg', '8oYMqhC5fhqAK_yxRjE7dQ', 'fLnkI1uHtXEsjtF6KoBHbQ', 'ajxohdcsKhRGFlEvHZDyTw', '5DgFmyjW6hkBtXtTMKl4tA', '7G8w2SnaC-qDVQ7_GqTxMg', 'NUtVG7jNPLJR2cxMXMH2-A', 'jcriwcTidug0fK8sgAloHA', 'NlNlyQynkyEU3l7TR3LXdg', 'UYcmGbelzRa0Q6JqzLoguw', 'Zk95TMXDx0zMUhYq5u8pxw', 'JRqMFKGxx6DnTGZrxwQZaA', '2k8OVAPxlXHsA5X6EIoQpQ']\n",
            "LcCRMIDz1JgshpPGYfLDcA ['0FVcoJko1kfZCrJRfssfIA', '_VTEyUzzH92X3w-IpGaXVA', 'zBi_JWB5uUdVuz3JLoAxGQ', '4pc_EyanaC3ARh0MZZyouA', 'y6jsaAXFstAJkf53R4_y4Q', '0QREkWHGO8-Z_70qx1BIWw', 'KHjroLTG6Ah8LyItTyB2yw', '2quguRdKBzul3GpRi9e1mA', 'tAcY4S3vIuNlAoRlCcz5VA']\n"
          ]
        }
      ],
      "source": [
        "filterThreshold = 7\n",
        "setUsers = {}\n",
        "\n",
        "for [user, item] in fileData:\n",
        "    if user not in setUsers:\n",
        "        setUsers[user] = {item}\n",
        "    else:\n",
        "        setUsers[user].add(item)\n",
        "\n",
        "gPyObject = {}\n",
        "\n",
        "# filter and make adjacency list of graph\n",
        "for user1, item1 in setUsers.items():\n",
        "    for user2, item2 in setUsers.items():\n",
        "        if user1 == user2: continue\n",
        "        if(len(item1 & item2) >= filterThreshold):\n",
        "            if user1 not in gPyObject:\n",
        "                gPyObject[user1] = [user2]\n",
        "            else:\n",
        "                gPyObject[user1].append(user2)\n",
        "cnt = 0\n",
        "for key, val in gPyObject.items():\n",
        "    print(key, val)\n",
        "    cnt += 1\n",
        "    if cnt == 5:\n",
        "        break"
      ]
    },
    {
      "cell_type": "markdown",
      "metadata": {
        "id": "_yioyezSRqdR"
      },
      "source": [
        "#### Thay đổi định dạng user từ string sang integer"
      ]
    },
    {
      "cell_type": "code",
      "execution_count": 6,
      "metadata": {
        "colab": {
          "base_uri": "https://localhost:8080/"
        },
        "id": "1vaYPTKGR2GS",
        "outputId": "052f19ee-7abb-4d6f-f468-0a2fb15b31c0"
      },
      "outputs": [
        {
          "output_type": "execute_result",
          "data": {
            "text/plain": [
              "[[1,\n",
              "  3,\n",
              "  5,\n",
              "  9,\n",
              "  11,\n",
              "  12,\n",
              "  14,\n",
              "  15,\n",
              "  18,\n",
              "  22,\n",
              "  23,\n",
              "  24,\n",
              "  26,\n",
              "  29,\n",
              "  31,\n",
              "  35,\n",
              "  41,\n",
              "  61,\n",
              "  67,\n",
              "  68,\n",
              "  86,\n",
              "  88,\n",
              "  93],\n",
              " [0,\n",
              "  4,\n",
              "  5,\n",
              "  9,\n",
              "  12,\n",
              "  14,\n",
              "  15,\n",
              "  16,\n",
              "  17,\n",
              "  18,\n",
              "  19,\n",
              "  21,\n",
              "  22,\n",
              "  23,\n",
              "  24,\n",
              "  26,\n",
              "  27,\n",
              "  35,\n",
              "  42,\n",
              "  44,\n",
              "  45,\n",
              "  46,\n",
              "  49,\n",
              "  53,\n",
              "  54,\n",
              "  62,\n",
              "  71,\n",
              "  73,\n",
              "  93,\n",
              "  94,\n",
              "  95,\n",
              "  96,\n",
              "  97,\n",
              "  104,\n",
              "  108,\n",
              "  110,\n",
              "  117,\n",
              "  118,\n",
              "  120,\n",
              "  123,\n",
              "  128,\n",
              "  129,\n",
              "  130,\n",
              "  133,\n",
              "  136,\n",
              "  139,\n",
              "  140,\n",
              "  146,\n",
              "  155,\n",
              "  156,\n",
              "  159,\n",
              "  175,\n",
              "  177],\n",
              " [6, 85],\n",
              " [0,\n",
              "  9,\n",
              "  10,\n",
              "  13,\n",
              "  18,\n",
              "  20,\n",
              "  25,\n",
              "  29,\n",
              "  31,\n",
              "  32,\n",
              "  33,\n",
              "  35,\n",
              "  36,\n",
              "  38,\n",
              "  39,\n",
              "  58,\n",
              "  63,\n",
              "  66,\n",
              "  78,\n",
              "  81,\n",
              "  89,\n",
              "  90,\n",
              "  98,\n",
              "  106,\n",
              "  112,\n",
              "  115,\n",
              "  145,\n",
              "  148],\n",
              " [1, 12, 15, 17, 44, 48, 56, 62, 121]]"
            ]
          },
          "metadata": {},
          "execution_count": 6
        }
      ],
      "source": [
        "transferUser = {}\n",
        "cnt = 0\n",
        "for key in gPyObject.keys():\n",
        "    transferUser[key] = cnt\n",
        "    cnt += 1\n",
        "g = [[] for _ in range(cnt)]\n",
        "for key, val in gPyObject.items():\n",
        "    user1 = transferUser[key]\n",
        "    for it in val:\n",
        "        user2 = transferUser[it]\n",
        "        g[user1].append(user2)\n",
        "g[:5]"
      ]
    },
    {
      "cell_type": "markdown",
      "metadata": {
        "id": "DH5CS8WbR5In"
      },
      "source": [
        "#### Ghi graph ra file"
      ]
    },
    {
      "cell_type": "code",
      "execution_count": 7,
      "metadata": {
        "id": "ei3VXBSnSA1l"
      },
      "outputs": [],
      "source": [
        "with open('graph.txt', \"w+\") as fp:\n",
        "    fp.write(str(cnt))\n",
        "    fp.write(\"\\n\")\n",
        "    for i in g:\n",
        "        line = \" \".join([str(item) for item in i])\n",
        "        fp.write(line)\n",
        "        fp.write(\"\\n\")\n",
        "\n",
        "    fp.close()"
      ]
    },
    {
      "cell_type": "markdown",
      "metadata": {
        "id": "dwyKU-r0hxVS"
      },
      "source": [
        "## 3. Cài đặt tuần tự"
      ]
    },
    {
      "cell_type": "markdown",
      "metadata": {
        "id": "mGGFY8xiwE4Z"
      },
      "source": [
        "Các yêu cầu cơ bản của một thuật toán phát hiện cộng đồng nói chung đó là nó phải tự chỉ được ra một phép phân chia tự nhiên giữa các đỉnh mà không đòi hỏi người ta phải xác định số cộng đồng nên có là bao nhiêu, hay giới hạn trong kích thước của các cộng đồng"
      ]
    },
    {
      "cell_type": "markdown",
      "metadata": {
        "id": "8YFOvFEWvGJJ"
      },
      "source": [
        "### 0. Giới thiệu thuật toán Girvan-Newman"
      ]
    },
    {
      "cell_type": "markdown",
      "metadata": {
        "id": "QKwyceqAvPNr"
      },
      "source": [
        "- Là thuật toán điển hình nhất trong các thuật toán phân chia đồ thị do nó có  ý nghĩa về mặt lịch sử (đánh dấu bước khởi đầu của một thời kỳ mới trong sự phát triển của phát hiện cộng đồng)\n",
        "- Đây là một phương pháp chia nhỏ, trong đó các cạnh được loại bỏ dần dần ra khỏi đồ thị\n",
        "- Các cạnh loại bỏ trong mỗi bước được xác định qua một độ đo trung gian (gọi là betweeness centrality)\n",
        "- Sau khi loại bỏ mỗi cạnh, độ đo trung gian của các cạnh còn lại sẽ được tính lại dựa vào cạnh bị loại bỏ đó"
      ]
    },
    {
      "cell_type": "code",
      "source": [
        "%%html\n",
        "<img src='https://drive.google.com/uc?export=view&amp;id=1lRwfBzDtRg0e7D5UIHQ09r84JeDISF-7'/>"
      ],
      "metadata": {
        "colab": {
          "base_uri": "https://localhost:8080/",
          "height": 470
        },
        "id": "fNbWvrrsm8BL",
        "outputId": "1c1eda28-9a4b-4901-9aa5-aef32926cb27"
      },
      "execution_count": 8,
      "outputs": [
        {
          "output_type": "display_data",
          "data": {
            "text/plain": [
              "<IPython.core.display.HTML object>"
            ],
            "text/html": [
              "<img src='https://drive.google.com/uc?export=view&amp;id=1lRwfBzDtRg0e7D5UIHQ09r84JeDISF-7'/>"
            ]
          },
          "metadata": {}
        }
      ]
    },
    {
      "cell_type": "markdown",
      "metadata": {
        "id": "TPJhE16xSCmX"
      },
      "source": [
        "Betweeness Centrality - BC (tạm dịch: mức độ tập trung) là một độ đo để thể hiện mức độ ảnh hưởng của một cạnh đối với luồng thông tin trong đồ thị. Nó thường được sử dụng để tìm các cạnh đóng vai trò là cầu nối từ phần này sang phần khác của đồ thị.\n",
        "\n",
        "Thuật toán tính toán các đường đi ngắn nhất không có trọng số giữa tất cả các cặp nút trong biểu đồ. Mỗi nút nhận được một số điểm, dựa trên số lượng đường đi ngắn nhất đi qua nút. Các cạnh thường xuyên nằm trên đường đi ngắn nhất giữa các cặp nút sẽ có điểm Betweeness Centrality cao hơn. Các cạnh có điểm BC cao nhất sẽ bị loại bỏ sau mỗi lần lặp"
      ]
    },
    {
      "cell_type": "code",
      "execution_count": 9,
      "metadata": {
        "colab": {
          "base_uri": "https://localhost:8080/",
          "height": 413
        },
        "id": "7gIqW9KWiEUs",
        "outputId": "9eacaada-853f-46e2-c8f3-849864f52049"
      },
      "outputs": [
        {
          "output_type": "display_data",
          "data": {
            "text/plain": [
              "<IPython.core.display.HTML object>"
            ],
            "text/html": [
              "<img src='https://drive.google.com/uc?export=view&amp;id=1u3b_zAQZixUKqDfqrf08Hd3rxPQJV1-y'/>"
            ]
          },
          "metadata": {}
        }
      ],
      "source": [
        "%%html\n",
        "<img src='https://drive.google.com/uc?export=view&amp;id=1u3b_zAQZixUKqDfqrf08Hd3rxPQJV1-y'/>"
      ]
    },
    {
      "cell_type": "code",
      "execution_count": 10,
      "metadata": {
        "colab": {
          "base_uri": "https://localhost:8080/",
          "height": 559
        },
        "id": "oaLihwjgiRJ8",
        "outputId": "38a4d7eb-c544-433e-8440-a447e86726fc"
      },
      "outputs": [
        {
          "output_type": "display_data",
          "data": {
            "text/plain": [
              "<IPython.core.display.HTML object>"
            ],
            "text/html": [
              "<img src='https://drive.google.com/uc?export=view&amp;id=1kv2-5XsuvzbKuCxUkLW31P-AqBWP-DRi'/>"
            ]
          },
          "metadata": {}
        }
      ],
      "source": [
        "%%html\n",
        "<img src='https://drive.google.com/uc?export=view&amp;id=1kv2-5XsuvzbKuCxUkLW31P-AqBWP-DRi'/>"
      ]
    },
    {
      "cell_type": "markdown",
      "metadata": {
        "id": "wAVjh-ESi6nL"
      },
      "source": [
        "### 1. Thiết kế"
      ]
    },
    {
      "cell_type": "markdown",
      "metadata": {
        "id": "rO2PhAp9V4c5"
      },
      "source": [
        "Các bước thực hiện:\n",
        "1. Xác định độ đo betweenness cho các cạnh trong đồ thị bằng thuật toán Girvan Newman\n",
        "2. Loại bỏ cạnh có betweenness lớn nhất khỏi graph\n",
        "3. Thực hiện lại bước 2 đến khi không còn cạnh nào"
      ]
    },
    {
      "cell_type": "markdown",
      "metadata": {
        "id": "YBYuZGXbaAYn"
      },
      "source": [
        "https://colab.research.google.com/drive/1R2Gt2wPEeEL-9_kGfXJRUy24zv1APglX?usp=sharing"
      ]
    },
    {
      "cell_type": "markdown",
      "metadata": {
        "id": "JXAWuEWSi-rq"
      },
      "source": [
        "### 2. Đánh giá"
      ]
    },
    {
      "cell_type": "markdown",
      "metadata": {
        "id": "kxLcIQpnh94F"
      },
      "source": [
        "#### Kịch bản thí nghiệm"
      ]
    },
    {
      "cell_type": "code",
      "source": [
        "f = open(\"graph.txt\", \"r\")\n",
        "vertices = int(f.readline())\n",
        "g = []\n",
        "\n",
        "for i in range(vertices):\n",
        "    g.append(list(map(int, f.readline().split())))\n",
        "f.close()\n",
        "\n",
        "numEdges = 0\n",
        "for i in range(len(g)):\n",
        "  numEdges += len(g[i])\n",
        "print(\"Num of edges:\", numEdges)"
      ],
      "metadata": {
        "colab": {
          "base_uri": "https://localhost:8080/"
        },
        "id": "sYUbpA36oAyB",
        "outputId": "7675f9b7-0d6e-4e44-ed8e-0c913d9cc4a4"
      },
      "execution_count": 16,
      "outputs": [
        {
          "output_type": "stream",
          "name": "stdout",
          "text": [
            "Num of edges: 996\n"
          ]
        }
      ]
    },
    {
      "cell_type": "markdown",
      "source": [
        "Bộ dữ liệu sử dụng:\n",
        "- 222 đỉnh\n",
        "- 996 cạnh (số cạnh tối đa 222 * 221 / 2 = 24531 cạnh)\n",
        "--> đồ thị thưa"
      ],
      "metadata": {
        "id": "_9vz6_BeoqVj"
      }
    },
    {
      "cell_type": "markdown",
      "source": [
        ""
      ],
      "metadata": {
        "id": "biOhmoaAn-z5"
      }
    },
    {
      "cell_type": "markdown",
      "metadata": {
        "id": "Dgafl808jgQs"
      },
      "source": [
        "Thực hiện 2 version: \\\n",
        "    + ver1: code python bình thường \\\n",
        "    + ver2: chuyển code về sử dụng mảng numpy và sử dụng decorator @jit(nopython=True)"
      ]
    },
    {
      "cell_type": "markdown",
      "metadata": {
        "id": "p3xvMITv-JO9"
      },
      "source": [
        "##### Version 1"
      ]
    },
    {
      "cell_type": "code",
      "execution_count": 11,
      "metadata": {
        "colab": {
          "base_uri": "https://localhost:8080/"
        },
        "id": "Z6je_6WAXRji",
        "outputId": "d632d558-170b-4241-bf00-cf2940ba9894"
      },
      "outputs": [
        {
          "output_type": "stream",
          "name": "stdout",
          "text": [
            "['(0, 1) 638.07', '(0, 3) 1400.88', '(0, 5) 170.34', '(0, 9) 387.88', '(0, 11) 189.00', '(0, 12) 155.81', '(0, 14) 81.32', '(0, 15) 129.72', '(0, 18) 100.28', '(0, 22) 90.10', '(0, 23) 51.06', '(0, 24) 53.52', '(0, 26) 152.83', '(0, 29) 177.28', '(0, 31) 79.68', '(0, 35) 22.94', '(0, 41) 189.00', '(0, 61) 189.00', '(0, 67) 561.00', '(0, 68) 119.58', '(0, 86) 98.10', '(0, 88) 189.00', '(0, 93) 106.85', '(1, 4) 390.69', '(1, 5) 105.22', '(1, 9) 2216.62', '(1, 12) 81.85', '(1, 14) 52.12', '(1, 15) 34.76', '(1, 16) 278.00', '(1, 17) 40.70', '(1, 18) 529.75', '(1, 19) 110.46', '(1, 21) 72.52', '(1, 22) 62.95', '(1, 23) 41.95', '(1, 24) 31.55', '(1, 26) 407.32', '(1, 27) 65.88', '(1, 35) 330.57', '(1, 42) 120.98', '(1, 44) 40.75', '(1, 45) 42.84', '(1, 46) 186.50', '(1, 49) 57.35', '(1, 53) 110.46', '(1, 54) 189.00', '(1, 62) 69.58', '(1, 71) 280.00', '(1, 73) 186.50', '(1, 93) 82.15', '(1, 94) 81.95', '(1, 95) 189.00', '(1, 96) 94.76', '(1, 97) 148.21', '(1, 104) 189.00', '(1, 108) 189.00', '(1, 110) 189.00', '(1, 117) 189.00', '(1, 118) 189.00', '(1, 120) 96.43', '(1, 123) 189.00', '(1, 128) 189.00', '(1, 129) 71.67', '(1, 130) 189.00', '(1, 133) 110.96', '(1, 136) 92.54', '(1, 139) 189.00', '(1, 140) 189.00', '(1, 146) 110.46', '(1, 155) 189.00', '(1, 156) 189.00', '(1, 159) 189.00', '(1, 175) 189.00', '(1, 177) 189.00', '(2, 6) 4.00', '(2, 85) 3.00', '(3, 9) 743.25', '(3, 10) 467.13', '(3, 13) 340.00', '(3, 18) 1308.11', '(3, 20) 344.47', '(3, 25) 3669.51', '(3, 29) 215.63', '(3, 31) 109.32', '(3, 32) 582.10', '(3, 33) 151.97', '(3, 35) 377.50', '(3, 36) 376.00', '(3, 38) 168.09', '(3, 39) 1070.37', '(3, 58) 189.00', '(3, 63) 189.00', '(3, 66) 612.70', '(3, 78) 179.17', '(3, 81) 379.10', '(3, 89) 363.17', '(3, 90) 185.67', '(3, 98) 154.67', '(3, 106) 189.00', '(3, 112) 189.00', '(3, 115) 265.09', '(3, 145) 189.00', '(3, 148) 189.00', '(4, 12) 245.81', '(4, 15) 99.34', '(4, 17) 125.14', '(4, 44) 55.25', '(4, 48) 372.00', '(4, 56) 186.00', '(4, 62) 9.92', '(4, 121) 186.00', '(5, 9) 608.62', '(5, 12) 21.38', '(5, 14) 27.95', '(5, 15) 20.70', '(5, 17) 22.26', '(5, 18) 157.19', '(5, 19) 78.54', '(5, 21) 20.19', '(5, 22) 35.95', '(5, 23) 18.45', '(5, 24) 9.05', '(5, 26) 130.31', '(5, 27) 38.65', '(5, 42) 70.23', '(5, 44) 22.30', '(5, 45) 18.09', '(5, 49) 32.51', '(5, 53) 78.54', '(5, 62) 48.74', '(5, 68) 69.42', '(5, 79) 189.00', '(5, 83) 189.00', '(5, 86) 45.45', '(5, 92) 31.30', '(5, 94) 54.02', '(5, 96) 67.50', '(5, 129) 44.79', '(5, 136) 60.86', '(5, 146) 78.54', '(6, 30) 3.00', '(7, 26) 189.00', '(8, 64) 3.00', '(9, 12) 554.45', '(9, 17) 247.54', '(9, 21) 326.59', '(9, 24) 170.36', '(9, 25) 3986.49', '(9, 45) 103.92', '(9, 92) 111.87', '(9, 107) 189.00', '(10, 26) 644.59', '(10, 32) 124.60', '(10, 33) 39.03', '(10, 39) 203.18', '(10, 47) 189.00', '(10, 50) 243.00', '(10, 52) 132.02', '(10, 66) 131.30', '(10, 81) 99.14', '(10, 98) 34.33', '(10, 105) 189.00', '(12, 14) 27.62', '(12, 15) 14.52', '(12, 18) 126.67', '(12, 21) 18.22', '(12, 23) 17.12', '(12, 24) 7.97', '(12, 26) 112.91', '(12, 27) 37.82', '(12, 42) 67.23', '(12, 44) 16.29', '(12, 45) 17.42', '(12, 49) 31.31', '(12, 59) 189.00', '(12, 62) 42.49', '(12, 72) 83.39', '(12, 86) 45.45', '(12, 92) 31.30', '(12, 94) 53.02', '(12, 120) 66.17', '(12, 129) 43.12', '(12, 133) 78.04', '(13, 32) 15.00', '(13, 39) 21.00', '(13, 103) 189.00', '(15, 17) 17.26', '(15, 18) 99.45', '(15, 21) 20.34', '(15, 24) 11.64', '(15, 26) 60.89', '(15, 42) 31.24', '(15, 44) 4.10', '(15, 49) 14.72', '(15, 62) 16.07', '(15, 96) 26.74', '(15, 97) 40.79', '(15, 120) 26.40', '(16, 28) 96.00', '(16, 46) 2.50', '(16, 73) 2.50', '(17, 44) 15.03', '(17, 49) 15.36', '(18, 23) 35.46', '(18, 44) 81.69', '(18, 50) 238.07', '(18, 69) 500.21', '(18, 72) 105.61', '(18, 124) 189.00', '(18, 135) 189.00', '(20, 32) 25.53', '(20, 33) 8.80', '(20, 114) 189.00', '(21, 23) 17.64', '(21, 24) 5.84', '(21, 26) 89.15', '(21, 27) 21.84', '(21, 42) 41.12', '(21, 44) 17.44', '(21, 45) 6.73', '(21, 49) 18.87', '(21, 92) 14.52', '(21, 129) 26.69', '(21, 136) 35.60', '(21, 141) 189.00', '(23, 26) 16.43', '(23, 44) 4.85', '(24, 26) 50.37', '(24, 27) 24.80', '(24, 42) 45.21', '(24, 44) 14.32', '(24, 49) 20.62', '(25, 119) 3857.00', '(25, 181) 3724.00', '(26, 44) 42.62', '(26, 50) 138.46', '(26, 99) 189.00', '(28, 71) 94.00', '(29, 38) 20.91', '(29, 51) 189.00', '(32, 39) 24.07', '(32, 65) 95.77', '(32, 76) 189.00', '(32, 82) 189.00', '(32, 158) 93.60', '(34, 39) 189.00', '(36, 100) 189.00', '(37, 57) 1.00', '(37, 67) 188.00', '(39, 52) 56.98', '(39, 65) 94.40', '(39, 87) 189.00', '(39, 102) 185.83', '(39, 125) 189.00', '(39, 157) 189.00', '(39, 158) 95.40', '(40, 75) 2.00', '(42, 185) 189.00', '(43, 50) 189.00', '(44, 62) 9.03', '(48, 56) 2.00', '(48, 121) 2.00', '(48, 160) 189.00', '(50, 69) 60.79', '(50, 142) 189.00', '(55, 66) 189.00', '(56, 121) 1.00', '(57, 67) 188.00', '(60, 134) 1.00', '(62, 129) 3.40', '(64, 178) 3.00', '(64, 200) 3.00', '(65, 102) 3.17', '(66, 109) 189.00', '(66, 144) 189.00', '(69, 77) 189.00', '(69, 84) 189.00', '(70, 81) 189.00', '(74, 161) 1.00', '(75, 91) 2.00', '(78, 81) 9.17', '(78, 89) 4.00', '(78, 90) 3.33', '(80, 81) 113.75', '(80, 113) 8.83', '(80, 115) 82.09', '(89, 113) 182.17', '(101, 182) 1.00', '(111, 116) 1.00', '(119, 132) 186.33', '(119, 152) 186.00', '(119, 164) 93.33', '(119, 170) 95.00', '(119, 179) 3335.00', '(119, 181) 2.00', '(119, 199) 94.50', '(119, 203) 94.50', '(119, 205) 189.00', '(122, 154) 4.00', '(122, 171) 4.00', '(122, 183) 4.00', '(122, 189) 4.00', '(126, 149) 1.00', '(127, 147) 108.50', '(127, 172) 1.00', '(127, 174) 79.50', '(131, 166) 1969.00', '(131, 167) 186.00', '(131, 173) 186.50', '(131, 184) 187.00', '(131, 186) 186.50', '(131, 187) 189.00', '(131, 188) 189.00', '(131, 210) 187.00', '(131, 212) 187.00', '(131, 213) 189.00', '(131, 214) 187.00', '(132, 143) 93.50', '(132, 152) 1.33', '(132, 181) 184.33', '(132, 201) 93.50', '(137, 138) 1.00', '(143, 152) 94.50', '(143, 201) 1.00', '(147, 151) 14.50', '(147, 153) 3.50', '(147, 162) 90.50', '(147, 163) 90.50', '(147, 165) 780.00', '(147, 166) 158.00', '(147, 168) 764.75', '(147, 169) 14.75', '(147, 172) 108.50', '(147, 174) 13.75', '(147, 176) 189.00', '(147, 190) 90.50', '(147, 191) 90.50', '(147, 192) 90.50', '(147, 193) 27.00', '(147, 195) 16.25', '(147, 204) 96.50', '(147, 206) 90.50', '(147, 207) 90.50', '(147, 208) 90.50', '(147, 209) 90.50', '(147, 211) 90.50', '(147, 216) 90.50', '(147, 217) 90.50', '(147, 218) 90.50', '(150, 165) 102.50', '(150, 168) 86.50', '(151, 153) 12.00', '(151, 165) 82.50', '(151, 168) 76.25', '(151, 169) 1.25', '(151, 174) 2.25', '(151, 195) 1.75', '(152, 164) 3.33', '(152, 181) 184.00', '(152, 201) 94.50', '(153, 162) 86.50', '(153, 163) 86.50', '(153, 165) 624.50', '(153, 166) 116.00', '(153, 168) 612.25', '(153, 169) 12.25', '(153, 174) 13.25', '(153, 190) 86.50', '(153, 191) 86.50', '(153, 192) 86.50', '(153, 195) 12.75', '(153, 204) 92.50', '(153, 206) 86.50', '(153, 207) 86.50', '(153, 208) 86.50', '(153, 209) 86.50', '(153, 211) 86.50', '(153, 216) 86.50', '(153, 217) 86.50', '(153, 218) 86.50', '(162, 163) 1.00', '(162, 190) 1.00', '(162, 191) 1.00', '(162, 192) 1.00', '(162, 206) 1.00', '(162, 207) 1.00', '(162, 208) 1.00', '(162, 209) 1.00', '(162, 211) 1.00', '(162, 216) 1.00', '(162, 217) 1.00', '(162, 218) 1.00', '(163, 190) 1.00', '(163, 191) 1.00', '(163, 192) 1.00', '(163, 206) 1.00', '(163, 207) 1.00', '(163, 208) 1.00', '(163, 209) 1.00', '(163, 211) 1.00', '(163, 216) 1.00', '(163, 217) 1.00', '(163, 218) 1.00', '(164, 181) 92.33', '(165, 166) 1862.00', '(165, 168) 7.75', '(165, 169) 82.75', '(165, 174) 160.75', '(165, 179) 4234.00', '(165, 180) 29.00', '(165, 193) 162.00', '(165, 194) 189.00', '(165, 195) 158.25', '(165, 197) 29.00', '(165, 198) 189.00', '(165, 202) 102.50', '(167, 173) 1.50', '(167, 184) 2.00', '(167, 186) 1.50', '(168, 169) 76.00', '(168, 174) 152.00', '(168, 179) 1898.00', '(168, 180) 13.00', '(168, 197) 13.00', '(168, 202) 86.50', '(169, 174) 2.00', '(170, 181) 94.00', '(172, 174) 79.50', '(173, 186) 1.00', '(179, 180) 146.00', '(179, 181) 3289.00', '(179, 196) 189.00', '(179, 197) 146.00', '(180, 197) 1.00', '(181, 199) 93.50', '(181, 203) 93.50', '(190, 191) 1.00', '(190, 192) 1.00', '(190, 206) 1.00', '(190, 207) 1.00', '(190, 208) 1.00', '(190, 209) 1.00', '(190, 211) 1.00', '(190, 216) 1.00', '(190, 217) 1.00', '(190, 218) 1.00', '(191, 192) 1.00', '(191, 206) 1.00', '(191, 207) 1.00', '(191, 208) 1.00', '(191, 209) 1.00', '(191, 211) 1.00', '(191, 216) 1.00', '(191, 217) 1.00', '(191, 218) 1.00', '(192, 206) 1.00', '(192, 207) 1.00', '(192, 208) 1.00', '(192, 209) 1.00', '(192, 211) 1.00', '(192, 216) 1.00', '(192, 217) 1.00', '(192, 218) 1.00', '(199, 203) 1.00', '(206, 207) 1.00', '(206, 208) 1.00', '(206, 209) 1.00', '(206, 211) 1.00', '(206, 216) 1.00', '(206, 217) 1.00', '(206, 218) 1.00', '(207, 208) 1.00', '(207, 209) 1.00', '(207, 211) 1.00', '(207, 216) 1.00', '(207, 217) 1.00', '(207, 218) 1.00', '(208, 209) 1.00', '(208, 211) 1.00', '(208, 216) 1.00', '(208, 217) 1.00', '(208, 218) 1.00', '(209, 211) 1.00', '(209, 216) 1.00', '(209, 217) 1.00', '(209, 218) 1.00', '(210, 212) 1.00', '(210, 214) 1.00', '(211, 216) 1.00', '(211, 217) 1.00', '(211, 218) 1.00', '(212, 214) 1.00', '(215, 219) 1.00', '(216, 217) 1.00', '(216, 218) 1.00', '(217, 218) 1.00', '(220, 221) 1.00']\n",
            "CPU times: user 10.2 ms, sys: 11 ms, total: 21.2 ms\n",
            "Wall time: 420 ms\n"
          ]
        }
      ],
      "source": [
        "%%time\n",
        "!python sequence.py"
      ]
    },
    {
      "cell_type": "markdown",
      "metadata": {
        "id": "xG3qF-kg-xGM"
      },
      "source": [
        "##### Version 2"
      ]
    },
    {
      "cell_type": "code",
      "execution_count": 12,
      "metadata": {
        "colab": {
          "base_uri": "https://localhost:8080/"
        },
        "id": "Ib-XfJ8lXR9B",
        "outputId": "98b6e241-03e9-4bde-e91e-f9f5ded60c2f"
      },
      "outputs": [
        {
          "output_type": "stream",
          "name": "stdout",
          "text": [
            "['(0, 1) 638.07', '(0, 3) 1400.88', '(0, 5) 170.34', '(0, 9) 387.88', '(0, 11) 189.00', '(0, 12) 155.81', '(0, 14) 81.32', '(0, 15) 129.72', '(0, 18) 100.28', '(0, 22) 90.10', '(0, 23) 51.06', '(0, 24) 53.52', '(0, 26) 152.83', '(0, 29) 177.28', '(0, 31) 79.68', '(0, 35) 22.94', '(0, 41) 189.00', '(0, 61) 189.00', '(0, 67) 561.00', '(0, 68) 119.58', '(0, 86) 98.10', '(0, 88) 189.00', '(0, 93) 106.85', '(1, 4) 390.69', '(1, 5) 105.22', '(1, 9) 2216.62', '(1, 12) 81.85', '(1, 14) 52.12', '(1, 15) 34.76', '(1, 16) 278.00', '(1, 17) 40.70', '(1, 18) 529.75', '(1, 19) 110.46', '(1, 21) 72.52', '(1, 22) 62.95', '(1, 23) 41.95', '(1, 24) 31.55', '(1, 26) 407.32', '(1, 27) 65.88', '(1, 35) 330.57', '(1, 42) 120.98', '(1, 44) 40.75', '(1, 45) 42.84', '(1, 46) 186.50', '(1, 49) 57.35', '(1, 53) 110.46', '(1, 54) 189.00', '(1, 62) 69.58', '(1, 71) 280.00', '(1, 73) 186.50', '(1, 93) 82.15', '(1, 94) 81.95', '(1, 95) 189.00', '(1, 96) 94.76', '(1, 97) 148.21', '(1, 104) 189.00', '(1, 108) 189.00', '(1, 110) 189.00', '(1, 117) 189.00', '(1, 118) 189.00', '(1, 120) 96.43', '(1, 123) 189.00', '(1, 128) 189.00', '(1, 129) 71.67', '(1, 130) 189.00', '(1, 133) 110.96', '(1, 136) 92.54', '(1, 139) 189.00', '(1, 140) 189.00', '(1, 146) 110.46', '(1, 155) 189.00', '(1, 156) 189.00', '(1, 159) 189.00', '(1, 175) 189.00', '(1, 177) 189.00', '(2, 6) 4.00', '(2, 85) 3.00', '(3, 9) 743.25', '(3, 10) 467.13', '(3, 13) 340.00', '(3, 18) 1308.11', '(3, 20) 344.47', '(3, 25) 3669.51', '(3, 29) 215.63', '(3, 31) 109.32', '(3, 32) 582.10', '(3, 33) 151.97', '(3, 35) 377.50', '(3, 36) 376.00', '(3, 38) 168.09', '(3, 39) 1070.37', '(3, 58) 189.00', '(3, 63) 189.00', '(3, 66) 612.70', '(3, 78) 179.17', '(3, 81) 379.10', '(3, 89) 363.17', '(3, 90) 185.67', '(3, 98) 154.67', '(3, 106) 189.00', '(3, 112) 189.00', '(3, 115) 265.09', '(3, 145) 189.00', '(3, 148) 189.00', '(4, 12) 245.81', '(4, 15) 99.34', '(4, 17) 125.14', '(4, 44) 55.25', '(4, 48) 372.00', '(4, 56) 186.00', '(4, 62) 9.92', '(4, 121) 186.00', '(5, 9) 608.62', '(5, 12) 21.38', '(5, 14) 27.95', '(5, 15) 20.70', '(5, 17) 22.26', '(5, 18) 157.19', '(5, 19) 78.54', '(5, 21) 20.19', '(5, 22) 35.95', '(5, 23) 18.45', '(5, 24) 9.05', '(5, 26) 130.31', '(5, 27) 38.65', '(5, 42) 70.23', '(5, 44) 22.30', '(5, 45) 18.09', '(5, 49) 32.51', '(5, 53) 78.54', '(5, 62) 48.74', '(5, 68) 69.42', '(5, 79) 189.00', '(5, 83) 189.00', '(5, 86) 45.45', '(5, 92) 31.30', '(5, 94) 54.02', '(5, 96) 67.50', '(5, 129) 44.79', '(5, 136) 60.86', '(5, 146) 78.54', '(6, 30) 3.00', '(7, 26) 189.00', '(8, 64) 3.00', '(9, 12) 554.45', '(9, 17) 247.54', '(9, 21) 326.59', '(9, 24) 170.36', '(9, 25) 3986.49', '(9, 45) 103.92', '(9, 92) 111.87', '(9, 107) 189.00', '(10, 26) 644.59', '(10, 32) 124.60', '(10, 33) 39.03', '(10, 39) 203.18', '(10, 47) 189.00', '(10, 50) 243.00', '(10, 52) 132.02', '(10, 66) 131.30', '(10, 81) 99.14', '(10, 98) 34.33', '(10, 105) 189.00', '(12, 14) 27.62', '(12, 15) 14.52', '(12, 18) 126.67', '(12, 21) 18.22', '(12, 23) 17.12', '(12, 24) 7.97', '(12, 26) 112.91', '(12, 27) 37.82', '(12, 42) 67.23', '(12, 44) 16.29', '(12, 45) 17.42', '(12, 49) 31.31', '(12, 59) 189.00', '(12, 62) 42.49', '(12, 72) 83.39', '(12, 86) 45.45', '(12, 92) 31.30', '(12, 94) 53.02', '(12, 120) 66.17', '(12, 129) 43.12', '(12, 133) 78.04', '(13, 32) 15.00', '(13, 39) 21.00', '(13, 103) 189.00', '(15, 17) 17.26', '(15, 18) 99.45', '(15, 21) 20.34', '(15, 24) 11.64', '(15, 26) 60.89', '(15, 42) 31.24', '(15, 44) 4.10', '(15, 49) 14.72', '(15, 62) 16.07', '(15, 96) 26.74', '(15, 97) 40.79', '(15, 120) 26.40', '(16, 28) 96.00', '(16, 46) 2.50', '(16, 73) 2.50', '(17, 44) 15.03', '(17, 49) 15.36', '(18, 23) 35.46', '(18, 44) 81.69', '(18, 50) 238.07', '(18, 69) 500.21', '(18, 72) 105.61', '(18, 124) 189.00', '(18, 135) 189.00', '(20, 32) 25.53', '(20, 33) 8.80', '(20, 114) 189.00', '(21, 23) 17.64', '(21, 24) 5.84', '(21, 26) 89.15', '(21, 27) 21.84', '(21, 42) 41.12', '(21, 44) 17.44', '(21, 45) 6.73', '(21, 49) 18.87', '(21, 92) 14.52', '(21, 129) 26.69', '(21, 136) 35.60', '(21, 141) 189.00', '(23, 26) 16.43', '(23, 44) 4.85', '(24, 26) 50.37', '(24, 27) 24.80', '(24, 42) 45.21', '(24, 44) 14.32', '(24, 49) 20.62', '(25, 119) 3857.00', '(25, 181) 3724.00', '(26, 44) 42.62', '(26, 50) 138.46', '(26, 99) 189.00', '(28, 71) 94.00', '(29, 38) 20.91', '(29, 51) 189.00', '(32, 39) 24.07', '(32, 65) 95.77', '(32, 76) 189.00', '(32, 82) 189.00', '(32, 158) 93.60', '(34, 39) 189.00', '(36, 100) 189.00', '(37, 57) 1.00', '(37, 67) 188.00', '(39, 52) 56.98', '(39, 65) 94.40', '(39, 87) 189.00', '(39, 102) 185.83', '(39, 125) 189.00', '(39, 157) 189.00', '(39, 158) 95.40', '(40, 75) 2.00', '(42, 185) 189.00', '(43, 50) 189.00', '(44, 62) 9.03', '(48, 56) 2.00', '(48, 121) 2.00', '(48, 160) 189.00', '(50, 69) 60.79', '(50, 142) 189.00', '(55, 66) 189.00', '(56, 121) 1.00', '(57, 67) 188.00', '(60, 134) 1.00', '(62, 129) 3.40', '(64, 178) 3.00', '(64, 200) 3.00', '(65, 102) 3.17', '(66, 109) 189.00', '(66, 144) 189.00', '(69, 77) 189.00', '(69, 84) 189.00', '(70, 81) 189.00', '(74, 161) 1.00', '(75, 91) 2.00', '(78, 81) 9.17', '(78, 89) 4.00', '(78, 90) 3.33', '(80, 81) 113.75', '(80, 113) 8.83', '(80, 115) 82.09', '(89, 113) 182.17', '(101, 182) 1.00', '(111, 116) 1.00', '(119, 132) 186.33', '(119, 152) 186.00', '(119, 164) 93.33', '(119, 170) 95.00', '(119, 179) 3335.00', '(119, 181) 2.00', '(119, 199) 94.50', '(119, 203) 94.50', '(119, 205) 189.00', '(122, 154) 4.00', '(122, 171) 4.00', '(122, 183) 4.00', '(122, 189) 4.00', '(126, 149) 1.00', '(127, 147) 108.50', '(127, 172) 1.00', '(127, 174) 79.50', '(131, 166) 1969.00', '(131, 167) 186.00', '(131, 173) 186.50', '(131, 184) 187.00', '(131, 186) 186.50', '(131, 187) 189.00', '(131, 188) 189.00', '(131, 210) 187.00', '(131, 212) 187.00', '(131, 213) 189.00', '(131, 214) 187.00', '(132, 143) 93.50', '(132, 152) 1.33', '(132, 181) 184.33', '(132, 201) 93.50', '(137, 138) 1.00', '(143, 152) 94.50', '(143, 201) 1.00', '(147, 151) 14.50', '(147, 153) 3.50', '(147, 162) 90.50', '(147, 163) 90.50', '(147, 165) 780.00', '(147, 166) 158.00', '(147, 168) 764.75', '(147, 169) 14.75', '(147, 172) 108.50', '(147, 174) 13.75', '(147, 176) 189.00', '(147, 190) 90.50', '(147, 191) 90.50', '(147, 192) 90.50', '(147, 193) 27.00', '(147, 195) 16.25', '(147, 204) 96.50', '(147, 206) 90.50', '(147, 207) 90.50', '(147, 208) 90.50', '(147, 209) 90.50', '(147, 211) 90.50', '(147, 216) 90.50', '(147, 217) 90.50', '(147, 218) 90.50', '(150, 165) 102.50', '(150, 168) 86.50', '(151, 153) 12.00', '(151, 165) 82.50', '(151, 168) 76.25', '(151, 169) 1.25', '(151, 174) 2.25', '(151, 195) 1.75', '(152, 164) 3.33', '(152, 181) 184.00', '(152, 201) 94.50', '(153, 162) 86.50', '(153, 163) 86.50', '(153, 165) 624.50', '(153, 166) 116.00', '(153, 168) 612.25', '(153, 169) 12.25', '(153, 174) 13.25', '(153, 190) 86.50', '(153, 191) 86.50', '(153, 192) 86.50', '(153, 195) 12.75', '(153, 204) 92.50', '(153, 206) 86.50', '(153, 207) 86.50', '(153, 208) 86.50', '(153, 209) 86.50', '(153, 211) 86.50', '(153, 216) 86.50', '(153, 217) 86.50', '(153, 218) 86.50', '(162, 163) 1.00', '(162, 190) 1.00', '(162, 191) 1.00', '(162, 192) 1.00', '(162, 206) 1.00', '(162, 207) 1.00', '(162, 208) 1.00', '(162, 209) 1.00', '(162, 211) 1.00', '(162, 216) 1.00', '(162, 217) 1.00', '(162, 218) 1.00', '(163, 190) 1.00', '(163, 191) 1.00', '(163, 192) 1.00', '(163, 206) 1.00', '(163, 207) 1.00', '(163, 208) 1.00', '(163, 209) 1.00', '(163, 211) 1.00', '(163, 216) 1.00', '(163, 217) 1.00', '(163, 218) 1.00', '(164, 181) 92.33', '(165, 166) 1862.00', '(165, 168) 7.75', '(165, 169) 82.75', '(165, 174) 160.75', '(165, 179) 4234.00', '(165, 180) 29.00', '(165, 193) 162.00', '(165, 194) 189.00', '(165, 195) 158.25', '(165, 197) 29.00', '(165, 198) 189.00', '(165, 202) 102.50', '(167, 173) 1.50', '(167, 184) 2.00', '(167, 186) 1.50', '(168, 169) 76.00', '(168, 174) 152.00', '(168, 179) 1898.00', '(168, 180) 13.00', '(168, 197) 13.00', '(168, 202) 86.50', '(169, 174) 2.00', '(170, 181) 94.00', '(172, 174) 79.50', '(173, 186) 1.00', '(179, 180) 146.00', '(179, 181) 3289.00', '(179, 196) 189.00', '(179, 197) 146.00', '(180, 197) 1.00', '(181, 199) 93.50', '(181, 203) 93.50', '(190, 191) 1.00', '(190, 192) 1.00', '(190, 206) 1.00', '(190, 207) 1.00', '(190, 208) 1.00', '(190, 209) 1.00', '(190, 211) 1.00', '(190, 216) 1.00', '(190, 217) 1.00', '(190, 218) 1.00', '(191, 192) 1.00', '(191, 206) 1.00', '(191, 207) 1.00', '(191, 208) 1.00', '(191, 209) 1.00', '(191, 211) 1.00', '(191, 216) 1.00', '(191, 217) 1.00', '(191, 218) 1.00', '(192, 206) 1.00', '(192, 207) 1.00', '(192, 208) 1.00', '(192, 209) 1.00', '(192, 211) 1.00', '(192, 216) 1.00', '(192, 217) 1.00', '(192, 218) 1.00', '(199, 203) 1.00', '(206, 207) 1.00', '(206, 208) 1.00', '(206, 209) 1.00', '(206, 211) 1.00', '(206, 216) 1.00', '(206, 217) 1.00', '(206, 218) 1.00', '(207, 208) 1.00', '(207, 209) 1.00', '(207, 211) 1.00', '(207, 216) 1.00', '(207, 217) 1.00', '(207, 218) 1.00', '(208, 209) 1.00', '(208, 211) 1.00', '(208, 216) 1.00', '(208, 217) 1.00', '(208, 218) 1.00', '(209, 211) 1.00', '(209, 216) 1.00', '(209, 217) 1.00', '(209, 218) 1.00', '(210, 212) 1.00', '(210, 214) 1.00', '(211, 216) 1.00', '(211, 217) 1.00', '(211, 218) 1.00', '(212, 214) 1.00', '(215, 219) 1.00', '(216, 217) 1.00', '(216, 218) 1.00', '(217, 218) 1.00', '(220, 221) 1.00']\n",
            "CPU times: user 22.8 ms, sys: 8.02 ms, total: 30.9 ms\n",
            "Wall time: 1.62 s\n"
          ]
        }
      ],
      "source": [
        "%%time\n",
        "!python sequenceDecoratorJit.py"
      ]
    },
    {
      "cell_type": "markdown",
      "metadata": {
        "id": "vxNMJ9KkiIy7"
      },
      "source": [
        "#### Kiểm tra độ chính xác\n"
      ]
    },
    {
      "cell_type": "markdown",
      "metadata": {
        "id": "qp-9NcG3kwhU"
      },
      "source": [
        "Kiểm tra độ chính xác bằng thư viện NetworkX"
      ]
    },
    {
      "cell_type": "code",
      "execution_count": 13,
      "metadata": {
        "colab": {
          "base_uri": "https://localhost:8080/"
        },
        "id": "K71uQVUNXfry",
        "outputId": "f5503b4e-7710-4852-9629-86748df84afb"
      },
      "outputs": [
        {
          "output_type": "stream",
          "name": "stdout",
          "text": [
            "['(0, 1) 638.07', '(0, 3) 1400.88', '(0, 5) 170.34', '(0, 9) 387.88', '(0, 11) 189.00', '(0, 12) 155.81', '(0, 14) 81.32', '(0, 15) 129.72', '(0, 18) 100.28', '(0, 22) 90.10', '(0, 23) 51.06', '(0, 24) 53.52', '(0, 26) 152.83', '(0, 29) 177.28', '(0, 31) 79.68', '(0, 35) 22.94', '(0, 41) 189.00', '(0, 61) 189.00', '(0, 67) 561.00', '(0, 68) 119.58', '(0, 86) 98.10', '(0, 88) 189.00', '(0, 93) 106.85', '(1, 4) 390.69', '(1, 5) 105.22', '(1, 9) 2216.62', '(1, 12) 81.85', '(1, 14) 52.12', '(1, 15) 34.76', '(1, 16) 278.00', '(1, 17) 40.70', '(1, 18) 529.75', '(1, 19) 110.46', '(1, 21) 72.52', '(1, 22) 62.95', '(1, 23) 41.95', '(1, 24) 31.55', '(1, 26) 407.32', '(1, 27) 65.88', '(1, 35) 330.57', '(1, 42) 120.98', '(1, 44) 40.75', '(1, 45) 42.84', '(1, 46) 186.50', '(1, 49) 57.35', '(1, 53) 110.46', '(1, 54) 189.00', '(1, 62) 69.58', '(1, 71) 280.00', '(1, 73) 186.50', '(1, 93) 82.15', '(1, 94) 81.95', '(1, 95) 189.00', '(1, 96) 94.76', '(1, 97) 148.21', '(1, 104) 189.00', '(1, 108) 189.00', '(1, 110) 189.00', '(1, 117) 189.00', '(1, 118) 189.00', '(1, 120) 96.43', '(1, 123) 189.00', '(1, 128) 189.00', '(1, 129) 71.67', '(1, 130) 189.00', '(1, 133) 110.96', '(1, 136) 92.54', '(1, 139) 189.00', '(1, 140) 189.00', '(1, 146) 110.46', '(1, 155) 189.00', '(1, 156) 189.00', '(1, 159) 189.00', '(1, 175) 189.00', '(1, 177) 189.00', '(2, 6) 4.00', '(2, 85) 3.00', '(3, 9) 743.25', '(3, 10) 467.13', '(3, 13) 340.00', '(3, 18) 1308.11', '(3, 20) 344.47', '(3, 25) 3669.51', '(3, 29) 215.63', '(3, 31) 109.32', '(3, 32) 582.10', '(3, 33) 151.97', '(3, 35) 377.50', '(3, 36) 376.00', '(3, 38) 168.09', '(3, 39) 1070.37', '(3, 58) 189.00', '(3, 63) 189.00', '(3, 66) 612.70', '(3, 78) 179.17', '(3, 81) 379.10', '(3, 89) 363.17', '(3, 90) 185.67', '(3, 98) 154.67', '(3, 106) 189.00', '(3, 112) 189.00', '(3, 115) 265.09', '(3, 145) 189.00', '(3, 148) 189.00', '(4, 17) 125.14', '(4, 44) 55.25', '(4, 48) 372.00', '(4, 56) 186.00', '(4, 62) 9.92', '(4, 121) 186.00', '(5, 9) 608.62', '(5, 12) 21.38', '(5, 14) 27.95', '(5, 15) 20.70', '(5, 17) 22.26', '(5, 18) 157.19', '(5, 19) 78.54', '(5, 21) 20.19', '(5, 22) 35.95', '(5, 23) 18.45', '(5, 24) 9.05', '(5, 26) 130.31', '(5, 27) 38.65', '(5, 42) 70.23', '(5, 44) 22.30', '(5, 45) 18.09', '(5, 49) 32.51', '(5, 53) 78.54', '(5, 62) 48.74', '(5, 68) 69.42', '(5, 79) 189.00', '(5, 83) 189.00', '(5, 86) 45.45', '(5, 92) 31.30', '(5, 94) 54.02', '(5, 96) 67.50', '(5, 129) 44.79', '(5, 136) 60.86', '(5, 146) 78.54', '(6, 30) 3.00', '(8, 64) 3.00', '(9, 12) 554.45', '(9, 17) 247.54', '(9, 21) 326.59', '(9, 24) 170.36', '(9, 25) 3986.49', '(9, 45) 103.92', '(9, 92) 111.87', '(9, 107) 189.00', '(10, 32) 124.60', '(10, 33) 39.03', '(10, 39) 203.18', '(10, 47) 189.00', '(10, 50) 243.00', '(10, 52) 132.02', '(10, 66) 131.30', '(10, 81) 99.14', '(10, 98) 34.33', '(10, 105) 189.00', '(12, 4) 245.81', '(12, 14) 27.62', '(12, 15) 14.52', '(12, 18) 126.67', '(12, 21) 18.22', '(12, 23) 17.12', '(12, 24) 7.97', '(12, 26) 112.91', '(12, 27) 37.82', '(12, 42) 67.23', '(12, 44) 16.29', '(12, 45) 17.42', '(12, 49) 31.31', '(12, 59) 189.00', '(12, 62) 42.49', '(12, 72) 83.39', '(12, 86) 45.45', '(12, 92) 31.30', '(12, 94) 53.02', '(12, 120) 66.17', '(12, 129) 43.12', '(12, 133) 78.04', '(13, 32) 15.00', '(13, 39) 21.00', '(13, 103) 189.00', '(15, 4) 99.34', '(15, 17) 17.26', '(15, 18) 99.45', '(15, 21) 20.34', '(15, 24) 11.64', '(15, 26) 60.89', '(15, 42) 31.24', '(15, 44) 4.10', '(15, 49) 14.72', '(15, 62) 16.07', '(15, 96) 26.74', '(15, 97) 40.79', '(15, 120) 26.40', '(16, 28) 96.00', '(16, 46) 2.50', '(16, 73) 2.50', '(17, 44) 15.03', '(17, 49) 15.36', '(18, 23) 35.46', '(18, 44) 81.69', '(18, 50) 238.07', '(18, 69) 500.21', '(18, 72) 105.61', '(18, 124) 189.00', '(18, 135) 189.00', '(20, 32) 25.53', '(20, 33) 8.80', '(20, 114) 189.00', '(21, 27) 21.84', '(21, 42) 41.12', '(21, 44) 17.44', '(21, 45) 6.73', '(21, 49) 18.87', '(21, 92) 14.52', '(21, 129) 26.69', '(21, 136) 35.60', '(21, 141) 189.00', '(23, 21) 17.64', '(23, 26) 16.43', '(23, 44) 4.85', '(24, 21) 5.84', '(24, 26) 50.37', '(24, 27) 24.80', '(24, 42) 45.21', '(24, 44) 14.32', '(24, 49) 20.62', '(25, 119) 3857.00', '(25, 181) 3724.00', '(26, 7) 189.00', '(26, 10) 644.59', '(26, 21) 89.15', '(26, 44) 42.62', '(26, 50) 138.46', '(26, 99) 189.00', '(29, 38) 20.91', '(29, 51) 189.00', '(32, 39) 24.07', '(32, 65) 95.77', '(32, 76) 189.00', '(32, 82) 189.00', '(32, 158) 93.60', '(36, 100) 189.00', '(37, 57) 1.00', '(39, 34) 189.00', '(39, 52) 56.98', '(39, 65) 94.40', '(39, 87) 189.00', '(39, 102) 185.83', '(39, 125) 189.00', '(39, 157) 189.00', '(39, 158) 95.40', '(40, 75) 2.00', '(42, 185) 189.00', '(44, 62) 9.03', '(48, 56) 2.00', '(48, 121) 2.00', '(48, 160) 189.00', '(50, 43) 189.00', '(50, 69) 60.79', '(50, 142) 189.00', '(56, 121) 1.00', '(60, 134) 1.00', '(62, 129) 3.40', '(64, 178) 3.00', '(64, 200) 3.00', '(65, 102) 3.17', '(66, 55) 189.00', '(66, 109) 189.00', '(66, 144) 189.00', '(67, 37) 188.00', '(67, 57) 188.00', '(69, 77) 189.00', '(69, 84) 189.00', '(71, 28) 94.00', '(74, 161) 1.00', '(75, 91) 2.00', '(78, 81) 9.17', '(78, 89) 4.00', '(78, 90) 3.33', '(80, 113) 8.83', '(81, 70) 189.00', '(81, 80) 113.75', '(89, 113) 182.17', '(101, 182) 1.00', '(111, 116) 1.00', '(115, 80) 82.09', '(119, 132) 186.33', '(119, 152) 186.00', '(119, 164) 93.33', '(119, 170) 95.00', '(119, 179) 3335.00', '(119, 181) 2.00', '(119, 199) 94.50', '(119, 203) 94.50', '(119, 205) 189.00', '(122, 154) 4.00', '(122, 171) 4.00', '(122, 183) 4.00', '(122, 189) 4.00', '(126, 149) 1.00', '(127, 147) 108.50', '(127, 172) 1.00', '(127, 174) 79.50', '(131, 166) 1969.00', '(131, 167) 186.00', '(131, 173) 186.50', '(131, 184) 187.00', '(131, 186) 186.50', '(131, 187) 189.00', '(131, 188) 189.00', '(131, 210) 187.00', '(131, 212) 187.00', '(131, 213) 189.00', '(131, 214) 187.00', '(132, 143) 93.50', '(132, 152) 1.33', '(132, 201) 93.50', '(137, 138) 1.00', '(143, 201) 1.00', '(147, 151) 14.50', '(147, 153) 3.50', '(147, 162) 90.50', '(147, 163) 90.50', '(147, 165) 780.00', '(147, 166) 158.00', '(147, 168) 764.75', '(147, 169) 14.75', '(147, 172) 108.50', '(147, 174) 13.75', '(147, 176) 189.00', '(147, 190) 90.50', '(147, 191) 90.50', '(147, 192) 90.50', '(147, 193) 27.00', '(147, 195) 16.25', '(147, 204) 96.50', '(147, 206) 90.50', '(147, 207) 90.50', '(147, 208) 90.50', '(147, 209) 90.50', '(147, 211) 90.50', '(147, 216) 90.50', '(147, 217) 90.50', '(147, 218) 90.50', '(151, 153) 12.00', '(151, 165) 82.50', '(151, 168) 76.25', '(151, 169) 1.25', '(151, 195) 1.75', '(152, 143) 94.50', '(152, 164) 3.33', '(152, 201) 94.50', '(153, 162) 86.50', '(153, 163) 86.50', '(153, 165) 624.50', '(153, 168) 612.25', '(153, 169) 12.25', '(153, 190) 86.50', '(153, 191) 86.50', '(153, 192) 86.50', '(153, 195) 12.75', '(153, 204) 92.50', '(153, 206) 86.50', '(153, 207) 86.50', '(153, 208) 86.50', '(153, 209) 86.50', '(153, 211) 86.50', '(153, 216) 86.50', '(153, 217) 86.50', '(153, 218) 86.50', '(162, 163) 1.00', '(162, 190) 1.00', '(162, 191) 1.00', '(162, 192) 1.00', '(162, 206) 1.00', '(162, 207) 1.00', '(162, 208) 1.00', '(162, 209) 1.00', '(162, 211) 1.00', '(162, 216) 1.00', '(162, 217) 1.00', '(162, 218) 1.00', '(163, 190) 1.00', '(163, 191) 1.00', '(163, 192) 1.00', '(163, 206) 1.00', '(163, 207) 1.00', '(163, 208) 1.00', '(163, 209) 1.00', '(163, 211) 1.00', '(163, 216) 1.00', '(163, 217) 1.00', '(163, 218) 1.00', '(165, 150) 102.50', '(165, 168) 7.75', '(165, 169) 82.75', '(165, 180) 29.00', '(165, 193) 162.00', '(165, 194) 189.00', '(165, 195) 158.25', '(165, 197) 29.00', '(165, 198) 189.00', '(165, 202) 102.50', '(166, 153) 116.00', '(166, 165) 1862.00', '(167, 173) 1.50', '(167, 184) 2.00', '(167, 186) 1.50', '(168, 150) 86.50', '(168, 169) 76.00', '(168, 180) 13.00', '(168, 197) 13.00', '(168, 202) 86.50', '(172, 174) 79.50', '(173, 186) 1.00', '(174, 151) 2.25', '(174, 153) 13.25', '(174, 165) 160.75', '(174, 168) 152.00', '(174, 169) 2.00', '(179, 165) 4234.00', '(179, 168) 1898.00', '(179, 180) 146.00', '(179, 196) 189.00', '(179, 197) 146.00', '(180, 197) 1.00', '(181, 132) 184.33', '(181, 152) 184.00', '(181, 164) 92.33', '(181, 170) 94.00', '(181, 179) 3289.00', '(181, 199) 93.50', '(181, 203) 93.50', '(190, 191) 1.00', '(190, 192) 1.00', '(190, 206) 1.00', '(190, 207) 1.00', '(190, 208) 1.00', '(190, 209) 1.00', '(190, 211) 1.00', '(190, 216) 1.00', '(190, 217) 1.00', '(190, 218) 1.00', '(191, 192) 1.00', '(191, 206) 1.00', '(191, 207) 1.00', '(191, 208) 1.00', '(191, 209) 1.00', '(191, 211) 1.00', '(191, 216) 1.00', '(191, 217) 1.00', '(191, 218) 1.00', '(192, 206) 1.00', '(192, 207) 1.00', '(192, 208) 1.00', '(192, 209) 1.00', '(192, 211) 1.00', '(192, 216) 1.00', '(192, 217) 1.00', '(192, 218) 1.00', '(199, 203) 1.00', '(206, 207) 1.00', '(206, 208) 1.00', '(206, 209) 1.00', '(206, 211) 1.00', '(206, 216) 1.00', '(206, 217) 1.00', '(206, 218) 1.00', '(207, 208) 1.00', '(207, 209) 1.00', '(207, 211) 1.00', '(207, 216) 1.00', '(207, 217) 1.00', '(207, 218) 1.00', '(208, 209) 1.00', '(208, 211) 1.00', '(208, 216) 1.00', '(208, 217) 1.00', '(208, 218) 1.00', '(209, 211) 1.00', '(209, 216) 1.00', '(209, 217) 1.00', '(209, 218) 1.00', '(210, 212) 1.00', '(210, 214) 1.00', '(211, 216) 1.00', '(211, 217) 1.00', '(211, 218) 1.00', '(212, 214) 1.00', '(215, 219) 1.00', '(216, 217) 1.00', '(216, 218) 1.00', '(217, 218) 1.00', '(220, 221) 1.00']\n",
            "CPU times: user 14.9 ms, sys: 7.05 ms, total: 22 ms\n",
            "Wall time: 820 ms\n"
          ]
        }
      ],
      "source": [
        "%%time\n",
        "!python testNetworkx.py"
      ]
    },
    {
      "cell_type": "markdown",
      "metadata": {
        "id": "CDV2YK7OhxYh"
      },
      "source": [
        "## Cài đặt song song"
      ]
    },
    {
      "cell_type": "markdown",
      "metadata": {
        "id": "Tl2cDv-0g2xE"
      },
      "source": [
        "### 1. Thiết kế"
      ]
    },
    {
      "cell_type": "markdown",
      "metadata": {
        "id": "8yHYuHDmhad-"
      },
      "source": [
        "### 2. Đánh giá"
      ]
    },
    {
      "cell_type": "markdown",
      "metadata": {
        "id": "J9K4aZ0HibpW"
      },
      "source": [
        "#### Kịch bản thí nghiệm"
      ]
    },
    {
      "cell_type": "markdown",
      "source": [
        "Bộ dữ liệu sử dụng:\n",
        "- 222 đỉnh\n",
        "- 996 cạnh (số cạnh tối đa 222 * 221 / 2 = 24531 cạnh)\n",
        "--> đồ thị thưa"
      ],
      "metadata": {
        "id": "Cj9O_pK0nzWx"
      }
    },
    {
      "cell_type": "markdown",
      "metadata": {
        "id": "zzuXblpuibxm"
      },
      "source": [
        "#### Chạy code và xem kết quả"
      ]
    },
    {
      "cell_type": "code",
      "execution_count": 14,
      "metadata": {
        "colab": {
          "base_uri": "https://localhost:8080/"
        },
        "id": "0odi0OUUXa6r",
        "outputId": "2a346235-824d-4c22-937e-f446231394d2"
      },
      "outputs": [
        {
          "output_type": "stream",
          "name": "stdout",
          "text": [
            "(0, 1) 638.07\n",
            "(0, 3) 1400.88\n",
            "(0, 5) 170.34\n",
            "(0, 9) 387.88\n",
            "(0, 11) 189.00\n",
            "(0, 12) 155.81\n",
            "(0, 14) 81.32\n",
            "(0, 15) 129.72\n",
            "(0, 18) 100.28\n",
            "(0, 22) 90.10\n",
            "(0, 23) 51.06\n",
            "(0, 24) 53.52\n",
            "(0, 26) 152.83\n",
            "(0, 29) 177.28\n",
            "(0, 31) 79.68\n",
            "(0, 35) 22.94\n",
            "(0, 41) 189.00\n",
            "(0, 61) 189.00\n",
            "(0, 67) 561.00\n",
            "(0, 68) 119.58\n",
            "(0, 86) 98.10\n",
            "(0, 88) 189.00\n",
            "(0, 93) 106.85\n",
            "(1, 0) 638.07\n",
            "(1, 4) 390.69\n",
            "(1, 5) 105.22\n",
            "(1, 9) 2216.62\n",
            "(1, 12) 81.85\n",
            "(1, 14) 52.12\n",
            "(1, 15) 34.76\n",
            "(1, 16) 278.00\n",
            "(1, 17) 40.70\n",
            "(1, 18) 529.75\n",
            "(1, 19) 110.46\n",
            "(1, 21) 72.52\n",
            "(1, 22) 62.95\n",
            "(1, 23) 41.95\n",
            "(1, 24) 31.55\n",
            "(1, 26) 407.32\n",
            "(1, 27) 65.88\n",
            "(1, 35) 330.57\n",
            "(1, 42) 120.98\n",
            "(1, 44) 40.75\n",
            "(1, 45) 42.84\n",
            "(1, 46) 186.50\n",
            "(1, 49) 57.35\n",
            "(1, 53) 110.46\n",
            "(1, 54) 189.00\n",
            "(1, 62) 69.58\n",
            "(1, 71) 280.00\n",
            "(1, 73) 186.50\n",
            "(1, 93) 82.15\n",
            "(1, 94) 81.95\n",
            "(1, 95) 189.00\n",
            "(1, 96) 94.76\n",
            "(1, 97) 148.21\n",
            "(1, 104) 189.00\n",
            "(1, 108) 189.00\n",
            "(1, 110) 189.00\n",
            "(1, 117) 189.00\n",
            "(1, 118) 189.00\n",
            "(1, 120) 96.43\n",
            "(1, 123) 189.00\n",
            "(1, 128) 189.00\n",
            "(1, 129) 71.67\n",
            "(1, 130) 189.00\n",
            "(1, 133) 110.96\n",
            "(1, 136) 92.54\n",
            "(1, 139) 189.00\n",
            "(1, 140) 189.00\n",
            "(1, 146) 110.46\n",
            "(1, 155) 189.00\n",
            "(1, 156) 189.00\n",
            "(1, 159) 189.00\n",
            "(1, 175) 189.00\n",
            "(1, 177) 189.00\n",
            "(2, 6) 4.00\n",
            "(2, 85) 3.00\n",
            "(3, 0) 1400.88\n",
            "(3, 9) 743.25\n",
            "(3, 10) 467.13\n",
            "(3, 13) 340.00\n",
            "(3, 18) 1308.11\n",
            "(3, 20) 344.47\n",
            "(3, 25) 3669.51\n",
            "(3, 29) 215.63\n",
            "(3, 31) 109.32\n",
            "(3, 32) 582.10\n",
            "(3, 33) 151.97\n",
            "(3, 35) 377.50\n",
            "(3, 36) 376.00\n",
            "(3, 38) 168.09\n",
            "(3, 39) 1070.37\n",
            "(3, 58) 189.00\n",
            "(3, 63) 189.00\n",
            "(3, 66) 612.70\n",
            "(3, 78) 179.17\n",
            "(3, 81) 379.10\n",
            "(3, 89) 363.17\n",
            "(3, 90) 185.67\n",
            "(3, 98) 154.67\n",
            "(3, 106) 189.00\n",
            "(3, 112) 189.00\n",
            "(3, 115) 265.09\n",
            "(3, 145) 189.00\n",
            "(3, 148) 189.00\n",
            "(4, 1) 390.69\n",
            "(4, 12) 245.81\n",
            "(4, 15) 99.34\n",
            "(4, 17) 125.14\n",
            "(4, 44) 55.25\n",
            "(4, 48) 372.00\n",
            "(4, 56) 186.00\n",
            "(4, 62) 9.92\n",
            "(4, 121) 186.00\n",
            "(5, 0) 170.34\n",
            "(5, 1) 105.22\n",
            "(5, 9) 608.62\n",
            "(5, 12) 21.38\n",
            "(5, 14) 27.95\n",
            "(5, 15) 20.70\n",
            "(5, 17) 22.26\n",
            "(5, 18) 157.19\n",
            "(5, 19) 78.54\n",
            "(5, 21) 20.19\n",
            "(5, 22) 35.95\n",
            "(5, 23) 18.45\n",
            "(5, 24) 9.05\n",
            "(5, 26) 130.31\n",
            "(5, 27) 38.65\n",
            "(5, 42) 70.23\n",
            "(5, 44) 22.30\n",
            "(5, 45) 18.09\n",
            "(5, 49) 32.51\n",
            "(5, 53) 78.54\n",
            "(5, 62) 48.74\n",
            "(5, 68) 69.42\n",
            "(5, 79) 189.00\n",
            "(5, 83) 189.00\n",
            "(5, 86) 45.45\n",
            "(5, 92) 31.30\n",
            "(5, 94) 54.02\n",
            "(5, 96) 67.50\n",
            "(5, 129) 44.79\n",
            "(5, 136) 60.86\n",
            "(5, 146) 78.54\n",
            "(6, 2) 4.00\n",
            "(6, 30) 3.00\n",
            "(7, 26) 189.00\n",
            "(8, 64) 3.00\n",
            "(9, 0) 387.88\n",
            "(9, 1) 2216.62\n",
            "(9, 3) 743.25\n",
            "(9, 5) 608.62\n",
            "(9, 12) 554.45\n",
            "(9, 17) 247.54\n",
            "(9, 21) 326.59\n",
            "(9, 24) 170.36\n",
            "(9, 25) 3986.49\n",
            "(9, 45) 103.92\n",
            "(9, 92) 111.87\n",
            "(9, 107) 189.00\n",
            "(10, 3) 467.13\n",
            "(10, 26) 644.59\n",
            "(10, 32) 124.60\n",
            "(10, 33) 39.03\n",
            "(10, 39) 203.18\n",
            "(10, 47) 189.00\n",
            "(10, 50) 243.00\n",
            "(10, 52) 132.02\n",
            "(10, 66) 131.30\n",
            "(10, 81) 99.14\n",
            "(10, 98) 34.33\n",
            "(10, 105) 189.00\n",
            "(11, 0) 189.00\n",
            "(12, 0) 155.81\n",
            "(12, 1) 81.85\n",
            "(12, 4) 245.81\n",
            "(12, 5) 21.38\n",
            "(12, 9) 554.45\n",
            "(12, 14) 27.62\n",
            "(12, 15) 14.52\n",
            "(12, 18) 126.67\n",
            "(12, 21) 18.22\n",
            "(12, 23) 17.12\n",
            "(12, 24) 7.97\n",
            "(12, 26) 112.91\n",
            "(12, 27) 37.82\n",
            "(12, 42) 67.23\n",
            "(12, 44) 16.29\n",
            "(12, 45) 17.42\n",
            "(12, 49) 31.31\n",
            "(12, 59) 189.00\n",
            "(12, 62) 42.49\n",
            "(12, 72) 83.39\n",
            "(12, 86) 45.45\n",
            "(12, 92) 31.30\n",
            "(12, 94) 53.02\n",
            "(12, 120) 66.17\n",
            "(12, 129) 43.12\n",
            "(12, 133) 78.04\n",
            "(13, 3) 340.00\n",
            "(13, 32) 15.00\n",
            "(13, 39) 21.00\n",
            "(13, 103) 189.00\n",
            "(14, 0) 81.32\n",
            "(14, 1) 52.12\n",
            "(14, 5) 27.95\n",
            "(14, 12) 27.62\n",
            "(15, 0) 129.72\n",
            "(15, 1) 34.76\n",
            "(15, 4) 99.34\n",
            "(15, 5) 20.70\n",
            "(15, 12) 14.52\n",
            "(15, 17) 17.26\n",
            "(15, 18) 99.45\n",
            "(15, 21) 20.34\n",
            "(15, 24) 11.64\n",
            "(15, 26) 60.89\n",
            "(15, 42) 31.24\n",
            "(15, 44) 4.10\n",
            "(15, 49) 14.72\n",
            "(15, 62) 16.07\n",
            "(15, 96) 26.74\n",
            "(15, 97) 40.79\n",
            "(15, 120) 26.40\n",
            "(16, 1) 278.00\n",
            "(16, 28) 96.00\n",
            "(16, 46) 2.50\n",
            "(16, 73) 2.50\n",
            "(17, 1) 40.70\n",
            "(17, 4) 125.14\n",
            "(17, 5) 22.26\n",
            "(17, 9) 247.54\n",
            "(17, 15) 17.26\n",
            "(17, 44) 15.03\n",
            "(17, 49) 15.36\n",
            "(18, 0) 100.28\n",
            "(18, 1) 529.75\n",
            "(18, 3) 1308.11\n",
            "(18, 5) 157.19\n",
            "(18, 12) 126.67\n",
            "(18, 15) 99.45\n",
            "(18, 23) 35.46\n",
            "(18, 44) 81.69\n",
            "(18, 50) 238.07\n",
            "(18, 69) 500.21\n",
            "(18, 72) 105.61\n",
            "(18, 124) 189.00\n",
            "(18, 135) 189.00\n",
            "(19, 1) 110.46\n",
            "(19, 5) 78.54\n",
            "(20, 3) 344.47\n",
            "(20, 32) 25.53\n",
            "(20, 33) 8.80\n",
            "(20, 114) 189.00\n",
            "(21, 1) 72.52\n",
            "(21, 5) 20.19\n",
            "(21, 9) 326.59\n",
            "(21, 12) 18.22\n",
            "(21, 15) 20.34\n",
            "(21, 23) 17.64\n",
            "(21, 24) 5.84\n",
            "(21, 26) 89.15\n",
            "(21, 27) 21.84\n",
            "(21, 42) 41.12\n",
            "(21, 44) 17.44\n",
            "(21, 45) 6.73\n",
            "(21, 49) 18.87\n",
            "(21, 92) 14.52\n",
            "(21, 129) 26.69\n",
            "(21, 136) 35.60\n",
            "(21, 141) 189.00\n",
            "(22, 0) 90.10\n",
            "(22, 1) 62.95\n",
            "(22, 5) 35.95\n",
            "(23, 0) 51.06\n",
            "(23, 1) 41.95\n",
            "(23, 5) 18.45\n",
            "(23, 12) 17.12\n",
            "(23, 18) 35.46\n",
            "(23, 21) 17.64\n",
            "(23, 26) 16.43\n",
            "(23, 44) 4.85\n",
            "(24, 0) 53.52\n",
            "(24, 1) 31.55\n",
            "(24, 5) 9.05\n",
            "(24, 9) 170.36\n",
            "(24, 12) 7.97\n",
            "(24, 15) 11.64\n",
            "(24, 21) 5.84\n",
            "(24, 26) 50.37\n",
            "(24, 27) 24.80\n",
            "(24, 42) 45.21\n",
            "(24, 44) 14.32\n",
            "(24, 49) 20.62\n",
            "(25, 3) 3669.51\n",
            "(25, 9) 3986.49\n",
            "(25, 119) 3857.00\n",
            "(25, 181) 3724.00\n",
            "(26, 0) 152.83\n",
            "(26, 1) 407.32\n",
            "(26, 5) 130.31\n",
            "(26, 7) 189.00\n",
            "(26, 10) 644.59\n",
            "(26, 12) 112.91\n",
            "(26, 15) 60.89\n",
            "(26, 21) 89.15\n",
            "(26, 23) 16.43\n",
            "(26, 24) 50.37\n",
            "(26, 44) 42.62\n",
            "(26, 50) 138.46\n",
            "(26, 99) 189.00\n",
            "(27, 1) 65.88\n",
            "(27, 5) 38.65\n",
            "(27, 12) 37.82\n",
            "(27, 21) 21.84\n",
            "(27, 24) 24.80\n",
            "(28, 16) 96.00\n",
            "(28, 71) 94.00\n",
            "(29, 0) 177.28\n",
            "(29, 3) 215.63\n",
            "(29, 38) 20.91\n",
            "(29, 51) 189.00\n",
            "(30, 6) 3.00\n",
            "(31, 0) 79.68\n",
            "(31, 3) 109.32\n",
            "(32, 3) 582.10\n",
            "(32, 10) 124.60\n",
            "(32, 13) 15.00\n",
            "(32, 20) 25.53\n",
            "(32, 39) 24.07\n",
            "(32, 65) 95.77\n",
            "(32, 76) 189.00\n",
            "(32, 82) 189.00\n",
            "(32, 158) 93.60\n",
            "(33, 3) 151.97\n",
            "(33, 10) 39.03\n",
            "(33, 20) 8.80\n",
            "(34, 39) 189.00\n",
            "(35, 0) 22.94\n",
            "(35, 1) 330.57\n",
            "(35, 3) 377.50\n",
            "(36, 3) 376.00\n",
            "(36, 100) 189.00\n",
            "(37, 57) 1.00\n",
            "(37, 67) 188.00\n",
            "(38, 3) 168.09\n",
            "(38, 29) 20.91\n",
            "(39, 3) 1070.37\n",
            "(39, 10) 203.18\n",
            "(39, 13) 21.00\n",
            "(39, 32) 24.07\n",
            "(39, 34) 189.00\n",
            "(39, 52) 56.98\n",
            "(39, 65) 94.40\n",
            "(39, 87) 189.00\n",
            "(39, 102) 185.83\n",
            "(39, 125) 189.00\n",
            "(39, 157) 189.00\n",
            "(39, 158) 95.40\n",
            "(40, 75) 2.00\n",
            "(41, 0) 189.00\n",
            "(42, 1) 120.98\n",
            "(42, 5) 70.23\n",
            "(42, 12) 67.23\n",
            "(42, 15) 31.24\n",
            "(42, 21) 41.12\n",
            "(42, 24) 45.21\n",
            "(42, 185) 189.00\n",
            "(43, 50) 189.00\n",
            "(44, 1) 40.75\n",
            "(44, 4) 55.25\n",
            "(44, 5) 22.30\n",
            "(44, 12) 16.29\n",
            "(44, 15) 4.10\n",
            "(44, 17) 15.03\n",
            "(44, 18) 81.69\n",
            "(44, 21) 17.44\n",
            "(44, 23) 4.85\n",
            "(44, 24) 14.32\n",
            "(44, 26) 42.62\n",
            "(44, 62) 9.03\n",
            "(45, 1) 42.84\n",
            "(45, 5) 18.09\n",
            "(45, 9) 103.92\n",
            "(45, 12) 17.42\n",
            "(45, 21) 6.73\n",
            "(46, 1) 186.50\n",
            "(46, 16) 2.50\n",
            "(47, 10) 189.00\n",
            "(48, 4) 372.00\n",
            "(48, 56) 2.00\n",
            "(48, 121) 2.00\n",
            "(48, 160) 189.00\n",
            "(49, 1) 57.35\n",
            "(49, 5) 32.51\n",
            "(49, 12) 31.31\n",
            "(49, 15) 14.72\n",
            "(49, 17) 15.36\n",
            "(49, 21) 18.87\n",
            "(49, 24) 20.62\n",
            "(50, 10) 243.00\n",
            "(50, 18) 238.07\n",
            "(50, 26) 138.46\n",
            "(50, 43) 189.00\n",
            "(50, 69) 60.79\n",
            "(50, 142) 189.00\n",
            "(51, 29) 189.00\n",
            "(52, 10) 132.02\n",
            "(52, 39) 56.98\n",
            "(53, 1) 110.46\n",
            "(53, 5) 78.54\n",
            "(54, 1) 189.00\n",
            "(55, 66) 189.00\n",
            "(56, 4) 186.00\n",
            "(56, 48) 2.00\n",
            "(56, 121) 1.00\n",
            "(57, 37) 1.00\n",
            "(57, 67) 188.00\n",
            "(58, 3) 189.00\n",
            "(59, 12) 189.00\n",
            "(60, 134) 1.00\n",
            "(61, 0) 189.00\n",
            "(62, 1) 69.58\n",
            "(62, 4) 9.92\n",
            "(62, 5) 48.74\n",
            "(62, 12) 42.49\n",
            "(62, 15) 16.07\n",
            "(62, 44) 9.03\n",
            "(62, 129) 3.40\n",
            "(63, 3) 189.00\n",
            "(64, 8) 3.00\n",
            "(64, 178) 3.00\n",
            "(64, 200) 3.00\n",
            "(65, 32) 95.77\n",
            "(65, 39) 94.40\n",
            "(65, 102) 3.17\n",
            "(66, 3) 612.70\n",
            "(66, 10) 131.30\n",
            "(66, 55) 189.00\n",
            "(66, 109) 189.00\n",
            "(66, 144) 189.00\n",
            "(67, 0) 561.00\n",
            "(67, 37) 188.00\n",
            "(67, 57) 188.00\n",
            "(68, 0) 119.58\n",
            "(68, 5) 69.42\n",
            "(69, 18) 500.21\n",
            "(69, 50) 60.79\n",
            "(69, 77) 189.00\n",
            "(69, 84) 189.00\n",
            "(70, 81) 189.00\n",
            "(71, 1) 280.00\n",
            "(71, 28) 94.00\n",
            "(72, 12) 83.39\n",
            "(72, 18) 105.61\n",
            "(73, 1) 186.50\n",
            "(73, 16) 2.50\n",
            "(74, 161) 1.00\n",
            "(75, 40) 2.00\n",
            "(75, 91) 2.00\n",
            "(76, 32) 189.00\n",
            "(77, 69) 189.00\n",
            "(78, 3) 179.17\n",
            "(78, 81) 9.17\n",
            "(78, 89) 4.00\n",
            "(78, 90) 3.33\n",
            "(79, 5) 189.00\n",
            "(80, 81) 113.75\n",
            "(80, 113) 8.83\n",
            "(80, 115) 82.09\n",
            "(81, 3) 379.10\n",
            "(81, 10) 99.14\n",
            "(81, 70) 189.00\n",
            "(81, 78) 9.17\n",
            "(81, 80) 113.75\n",
            "(82, 32) 189.00\n",
            "(83, 5) 189.00\n",
            "(84, 69) 189.00\n",
            "(85, 2) 3.00\n",
            "(86, 0) 98.10\n",
            "(86, 5) 45.45\n",
            "(86, 12) 45.45\n",
            "(87, 39) 189.00\n",
            "(88, 0) 189.00\n",
            "(89, 3) 363.17\n",
            "(89, 78) 4.00\n",
            "(89, 113) 182.17\n",
            "(90, 3) 185.67\n",
            "(90, 78) 3.33\n",
            "(91, 75) 2.00\n",
            "(92, 5) 31.30\n",
            "(92, 9) 111.87\n",
            "(92, 12) 31.30\n",
            "(92, 21) 14.52\n",
            "(93, 0) 106.85\n",
            "(93, 1) 82.15\n",
            "(94, 1) 81.95\n",
            "(94, 5) 54.02\n",
            "(94, 12) 53.02\n",
            "(95, 1) 189.00\n",
            "(96, 1) 94.76\n",
            "(96, 5) 67.50\n",
            "(96, 15) 26.74\n",
            "(97, 1) 148.21\n",
            "(97, 15) 40.79\n",
            "(98, 3) 154.67\n",
            "(98, 10) 34.33\n",
            "(99, 26) 189.00\n",
            "(100, 36) 189.00\n",
            "(101, 182) 1.00\n",
            "(102, 39) 185.83\n",
            "(102, 65) 3.17\n",
            "(103, 13) 189.00\n",
            "(104, 1) 189.00\n",
            "(105, 10) 189.00\n",
            "(106, 3) 189.00\n",
            "(107, 9) 189.00\n",
            "(108, 1) 189.00\n",
            "(109, 66) 189.00\n",
            "(110, 1) 189.00\n",
            "(111, 116) 1.00\n",
            "(112, 3) 189.00\n",
            "(113, 80) 8.83\n",
            "(113, 89) 182.17\n",
            "(114, 20) 189.00\n",
            "(115, 3) 265.09\n",
            "(115, 80) 82.09\n",
            "(116, 111) 1.00\n",
            "(117, 1) 189.00\n",
            "(118, 1) 189.00\n",
            "(119, 25) 3857.00\n",
            "(119, 132) 186.33\n",
            "(119, 152) 186.00\n",
            "(119, 164) 93.33\n",
            "(119, 170) 95.00\n",
            "(119, 179) 3335.00\n",
            "(119, 181) 2.00\n",
            "(119, 199) 94.50\n",
            "(119, 203) 94.50\n",
            "(119, 205) 189.00\n",
            "(120, 1) 96.43\n",
            "(120, 12) 66.17\n",
            "(120, 15) 26.40\n",
            "(121, 4) 186.00\n",
            "(121, 48) 2.00\n",
            "(121, 56) 1.00\n",
            "(122, 154) 4.00\n",
            "(122, 171) 4.00\n",
            "(122, 183) 4.00\n",
            "(122, 189) 4.00\n",
            "(123, 1) 189.00\n",
            "(124, 18) 189.00\n",
            "(125, 39) 189.00\n",
            "(126, 149) 1.00\n",
            "(127, 147) 108.50\n",
            "(127, 172) 1.00\n",
            "(127, 174) 79.50\n",
            "(128, 1) 189.00\n",
            "(129, 1) 71.67\n",
            "(129, 5) 44.79\n",
            "(129, 12) 43.12\n",
            "(129, 21) 26.69\n",
            "(129, 62) 3.40\n",
            "(130, 1) 189.00\n",
            "(131, 166) 1969.00\n",
            "(131, 167) 186.00\n",
            "(131, 173) 186.50\n",
            "(131, 184) 187.00\n",
            "(131, 186) 186.50\n",
            "(131, 187) 189.00\n",
            "(131, 188) 189.00\n",
            "(131, 210) 187.00\n",
            "(131, 212) 187.00\n",
            "(131, 213) 189.00\n",
            "(131, 214) 187.00\n",
            "(132, 119) 186.33\n",
            "(132, 143) 93.50\n",
            "(132, 152) 1.33\n",
            "(132, 181) 184.33\n",
            "(132, 201) 93.50\n",
            "(133, 1) 110.96\n",
            "(133, 12) 78.04\n",
            "(134, 60) 1.00\n",
            "(135, 18) 189.00\n",
            "(136, 1) 92.54\n",
            "(136, 5) 60.86\n",
            "(136, 21) 35.60\n",
            "(137, 138) 1.00\n",
            "(138, 137) 1.00\n",
            "(139, 1) 189.00\n",
            "(140, 1) 189.00\n",
            "(141, 21) 189.00\n",
            "(142, 50) 189.00\n",
            "(143, 132) 93.50\n",
            "(143, 152) 94.50\n",
            "(143, 201) 1.00\n",
            "(144, 66) 189.00\n",
            "(145, 3) 189.00\n",
            "(146, 1) 110.46\n",
            "(146, 5) 78.54\n",
            "(147, 127) 108.50\n",
            "(147, 151) 14.50\n",
            "(147, 153) 3.50\n",
            "(147, 162) 90.50\n",
            "(147, 163) 90.50\n",
            "(147, 165) 780.00\n",
            "(147, 166) 158.00\n",
            "(147, 168) 764.75\n",
            "(147, 169) 14.75\n",
            "(147, 172) 108.50\n",
            "(147, 174) 13.75\n",
            "(147, 176) 189.00\n",
            "(147, 190) 90.50\n",
            "(147, 191) 90.50\n",
            "(147, 192) 90.50\n",
            "(147, 193) 27.00\n",
            "(147, 195) 16.25\n",
            "(147, 204) 96.50\n",
            "(147, 206) 90.50\n",
            "(147, 207) 90.50\n",
            "(147, 208) 90.50\n",
            "(147, 209) 90.50\n",
            "(147, 211) 90.50\n",
            "(147, 216) 90.50\n",
            "(147, 217) 90.50\n",
            "(147, 218) 90.50\n",
            "(148, 3) 189.00\n",
            "(149, 126) 1.00\n",
            "(150, 165) 102.50\n",
            "(150, 168) 86.50\n",
            "(151, 147) 14.50\n",
            "(151, 153) 12.00\n",
            "(151, 165) 82.50\n",
            "(151, 168) 76.25\n",
            "(151, 169) 1.25\n",
            "(151, 174) 2.25\n",
            "(151, 195) 1.75\n",
            "(152, 119) 186.00\n",
            "(152, 132) 1.33\n",
            "(152, 143) 94.50\n",
            "(152, 164) 3.33\n",
            "(152, 181) 184.00\n",
            "(152, 201) 94.50\n",
            "(153, 147) 3.50\n",
            "(153, 151) 12.00\n",
            "(153, 162) 86.50\n",
            "(153, 163) 86.50\n",
            "(153, 165) 624.50\n",
            "(153, 166) 116.00\n",
            "(153, 168) 612.25\n",
            "(153, 169) 12.25\n",
            "(153, 174) 13.25\n",
            "(153, 190) 86.50\n",
            "(153, 191) 86.50\n",
            "(153, 192) 86.50\n",
            "(153, 195) 12.75\n",
            "(153, 204) 92.50\n",
            "(153, 206) 86.50\n",
            "(153, 207) 86.50\n",
            "(153, 208) 86.50\n",
            "(153, 209) 86.50\n",
            "(153, 211) 86.50\n",
            "(153, 216) 86.50\n",
            "(153, 217) 86.50\n",
            "(153, 218) 86.50\n",
            "(154, 122) 4.00\n",
            "(155, 1) 189.00\n",
            "(156, 1) 189.00\n",
            "(157, 39) 189.00\n",
            "(158, 32) 93.60\n",
            "(158, 39) 95.40\n",
            "(159, 1) 189.00\n",
            "(160, 48) 189.00\n",
            "(161, 74) 1.00\n",
            "(162, 147) 90.50\n",
            "(162, 153) 86.50\n",
            "(162, 163) 1.00\n",
            "(162, 190) 1.00\n",
            "(162, 191) 1.00\n",
            "(162, 192) 1.00\n",
            "(162, 206) 1.00\n",
            "(162, 207) 1.00\n",
            "(162, 208) 1.00\n",
            "(162, 209) 1.00\n",
            "(162, 211) 1.00\n",
            "(162, 216) 1.00\n",
            "(162, 217) 1.00\n",
            "(162, 218) 1.00\n",
            "(163, 147) 90.50\n",
            "(163, 153) 86.50\n",
            "(163, 162) 1.00\n",
            "(163, 190) 1.00\n",
            "(163, 191) 1.00\n",
            "(163, 192) 1.00\n",
            "(163, 206) 1.00\n",
            "(163, 207) 1.00\n",
            "(163, 208) 1.00\n",
            "(163, 209) 1.00\n",
            "(163, 211) 1.00\n",
            "(163, 216) 1.00\n",
            "(163, 217) 1.00\n",
            "(163, 218) 1.00\n",
            "(164, 119) 93.33\n",
            "(164, 152) 3.33\n",
            "(164, 181) 92.33\n",
            "(165, 147) 780.00\n",
            "(165, 150) 102.50\n",
            "(165, 151) 82.50\n",
            "(165, 153) 624.50\n",
            "(165, 166) 1862.00\n",
            "(165, 168) 7.75\n",
            "(165, 169) 82.75\n",
            "(165, 174) 160.75\n",
            "(165, 179) 4234.00\n",
            "(165, 180) 29.00\n",
            "(165, 193) 162.00\n",
            "(165, 194) 189.00\n",
            "(165, 195) 158.25\n",
            "(165, 197) 29.00\n",
            "(165, 198) 189.00\n",
            "(165, 202) 102.50\n",
            "(166, 131) 1969.00\n",
            "(166, 147) 158.00\n",
            "(166, 153) 116.00\n",
            "(166, 165) 1862.00\n",
            "(167, 131) 186.00\n",
            "(167, 173) 1.50\n",
            "(167, 184) 2.00\n",
            "(167, 186) 1.50\n",
            "(168, 147) 764.75\n",
            "(168, 150) 86.50\n",
            "(168, 151) 76.25\n",
            "(168, 153) 612.25\n",
            "(168, 165) 7.75\n",
            "(168, 169) 76.00\n",
            "(168, 174) 152.00\n",
            "(168, 179) 1898.00\n",
            "(168, 180) 13.00\n",
            "(168, 197) 13.00\n",
            "(168, 202) 86.50\n",
            "(169, 147) 14.75\n",
            "(169, 151) 1.25\n",
            "(169, 153) 12.25\n",
            "(169, 165) 82.75\n",
            "(169, 168) 76.00\n",
            "(169, 174) 2.00\n",
            "(170, 119) 95.00\n",
            "(170, 181) 94.00\n",
            "(171, 122) 4.00\n",
            "(172, 127) 1.00\n",
            "(172, 147) 108.50\n",
            "(172, 174) 79.50\n",
            "(173, 131) 186.50\n",
            "(173, 167) 1.50\n",
            "(173, 186) 1.00\n",
            "(174, 127) 79.50\n",
            "(174, 147) 13.75\n",
            "(174, 151) 2.25\n",
            "(174, 153) 13.25\n",
            "(174, 165) 160.75\n",
            "(174, 168) 152.00\n",
            "(174, 169) 2.00\n",
            "(174, 172) 79.50\n",
            "(175, 1) 189.00\n",
            "(176, 147) 189.00\n",
            "(177, 1) 189.00\n",
            "(178, 64) 3.00\n",
            "(179, 119) 3335.00\n",
            "(179, 165) 4234.00\n",
            "(179, 168) 1898.00\n",
            "(179, 180) 146.00\n",
            "(179, 181) 3289.00\n",
            "(179, 196) 189.00\n",
            "(179, 197) 146.00\n",
            "(180, 165) 29.00\n",
            "(180, 168) 13.00\n",
            "(180, 179) 146.00\n",
            "(180, 197) 1.00\n",
            "(181, 25) 3724.00\n",
            "(181, 119) 2.00\n",
            "(181, 132) 184.33\n",
            "(181, 152) 184.00\n",
            "(181, 164) 92.33\n",
            "(181, 170) 94.00\n",
            "(181, 179) 3289.00\n",
            "(181, 199) 93.50\n",
            "(181, 203) 93.50\n",
            "(182, 101) 1.00\n",
            "(183, 122) 4.00\n",
            "(184, 131) 187.00\n",
            "(184, 167) 2.00\n",
            "(185, 42) 189.00\n",
            "(186, 131) 186.50\n",
            "(186, 167) 1.50\n",
            "(186, 173) 1.00\n",
            "(187, 131) 189.00\n",
            "(188, 131) 189.00\n",
            "(189, 122) 4.00\n",
            "(190, 147) 90.50\n",
            "(190, 153) 86.50\n",
            "(190, 162) 1.00\n",
            "(190, 163) 1.00\n",
            "(190, 191) 1.00\n",
            "(190, 192) 1.00\n",
            "(190, 206) 1.00\n",
            "(190, 207) 1.00\n",
            "(190, 208) 1.00\n",
            "(190, 209) 1.00\n",
            "(190, 211) 1.00\n",
            "(190, 216) 1.00\n",
            "(190, 217) 1.00\n",
            "(190, 218) 1.00\n",
            "(191, 147) 90.50\n",
            "(191, 153) 86.50\n",
            "(191, 162) 1.00\n",
            "(191, 163) 1.00\n",
            "(191, 190) 1.00\n",
            "(191, 192) 1.00\n",
            "(191, 206) 1.00\n",
            "(191, 207) 1.00\n",
            "(191, 208) 1.00\n",
            "(191, 209) 1.00\n",
            "(191, 211) 1.00\n",
            "(191, 216) 1.00\n",
            "(191, 217) 1.00\n",
            "(191, 218) 1.00\n",
            "(192, 147) 90.50\n",
            "(192, 153) 86.50\n",
            "(192, 162) 1.00\n",
            "(192, 163) 1.00\n",
            "(192, 190) 1.00\n",
            "(192, 191) 1.00\n",
            "(192, 206) 1.00\n",
            "(192, 207) 1.00\n",
            "(192, 208) 1.00\n",
            "(192, 209) 1.00\n",
            "(192, 211) 1.00\n",
            "(192, 216) 1.00\n",
            "(192, 217) 1.00\n",
            "(192, 218) 1.00\n",
            "(193, 147) 27.00\n",
            "(193, 165) 162.00\n",
            "(194, 165) 189.00\n",
            "(195, 147) 16.25\n",
            "(195, 151) 1.75\n",
            "(195, 153) 12.75\n",
            "(195, 165) 158.25\n",
            "(196, 179) 189.00\n",
            "(197, 165) 29.00\n",
            "(197, 168) 13.00\n",
            "(197, 179) 146.00\n",
            "(197, 180) 1.00\n",
            "(198, 165) 189.00\n",
            "(199, 119) 94.50\n",
            "(199, 181) 93.50\n",
            "(199, 203) 1.00\n",
            "(200, 64) 3.00\n",
            "(201, 132) 93.50\n",
            "(201, 143) 1.00\n",
            "(201, 152) 94.50\n",
            "(202, 165) 102.50\n",
            "(202, 168) 86.50\n",
            "(203, 119) 94.50\n",
            "(203, 181) 93.50\n",
            "(203, 199) 1.00\n",
            "(204, 147) 96.50\n",
            "(204, 153) 92.50\n",
            "(205, 119) 189.00\n",
            "(206, 147) 90.50\n",
            "(206, 153) 86.50\n",
            "(206, 162) 1.00\n",
            "(206, 163) 1.00\n",
            "(206, 190) 1.00\n",
            "(206, 191) 1.00\n",
            "(206, 192) 1.00\n",
            "(206, 207) 1.00\n",
            "(206, 208) 1.00\n",
            "(206, 209) 1.00\n",
            "(206, 211) 1.00\n",
            "(206, 216) 1.00\n",
            "(206, 217) 1.00\n",
            "(206, 218) 1.00\n",
            "(207, 147) 90.50\n",
            "(207, 153) 86.50\n",
            "(207, 162) 1.00\n",
            "(207, 163) 1.00\n",
            "(207, 190) 1.00\n",
            "(207, 191) 1.00\n",
            "(207, 192) 1.00\n",
            "(207, 206) 1.00\n",
            "(207, 208) 1.00\n",
            "(207, 209) 1.00\n",
            "(207, 211) 1.00\n",
            "(207, 216) 1.00\n",
            "(207, 217) 1.00\n",
            "(207, 218) 1.00\n",
            "(208, 147) 90.50\n",
            "(208, 153) 86.50\n",
            "(208, 162) 1.00\n",
            "(208, 163) 1.00\n",
            "(208, 190) 1.00\n",
            "(208, 191) 1.00\n",
            "(208, 192) 1.00\n",
            "(208, 206) 1.00\n",
            "(208, 207) 1.00\n",
            "(208, 209) 1.00\n",
            "(208, 211) 1.00\n",
            "(208, 216) 1.00\n",
            "(208, 217) 1.00\n",
            "(208, 218) 1.00\n",
            "(209, 147) 90.50\n",
            "(209, 153) 86.50\n",
            "(209, 162) 1.00\n",
            "(209, 163) 1.00\n",
            "(209, 190) 1.00\n",
            "(209, 191) 1.00\n",
            "(209, 192) 1.00\n",
            "(209, 206) 1.00\n",
            "(209, 207) 1.00\n",
            "(209, 208) 1.00\n",
            "(209, 211) 1.00\n",
            "(209, 216) 1.00\n",
            "(209, 217) 1.00\n",
            "(209, 218) 1.00\n",
            "(210, 131) 187.00\n",
            "(210, 212) 1.00\n",
            "(210, 214) 1.00\n",
            "(211, 147) 90.50\n",
            "(211, 153) 86.50\n",
            "(211, 162) 1.00\n",
            "(211, 163) 1.00\n",
            "(211, 190) 1.00\n",
            "(211, 191) 1.00\n",
            "(211, 192) 1.00\n",
            "(211, 206) 1.00\n",
            "(211, 207) 1.00\n",
            "(211, 208) 1.00\n",
            "(211, 209) 1.00\n",
            "(211, 216) 1.00\n",
            "(211, 217) 1.00\n",
            "(211, 218) 1.00\n",
            "(212, 131) 187.00\n",
            "(212, 210) 1.00\n",
            "(212, 214) 1.00\n",
            "(213, 131) 189.00\n",
            "(214, 131) 187.00\n",
            "(214, 210) 1.00\n",
            "(214, 212) 1.00\n",
            "(215, 219) 1.00\n",
            "(216, 147) 90.50\n",
            "(216, 153) 86.50\n",
            "(216, 162) 1.00\n",
            "(216, 163) 1.00\n",
            "(216, 190) 1.00\n",
            "(216, 191) 1.00\n",
            "(216, 192) 1.00\n",
            "(216, 206) 1.00\n",
            "(216, 207) 1.00\n",
            "(216, 208) 1.00\n",
            "(216, 209) 1.00\n",
            "(216, 211) 1.00\n",
            "(216, 217) 1.00\n",
            "(216, 218) 1.00\n",
            "(217, 147) 90.50\n",
            "(217, 153) 86.50\n",
            "(217, 162) 1.00\n",
            "(217, 163) 1.00\n",
            "(217, 190) 1.00\n",
            "(217, 191) 1.00\n",
            "(217, 192) 1.00\n",
            "(217, 206) 1.00\n",
            "(217, 207) 1.00\n",
            "(217, 208) 1.00\n",
            "(217, 209) 1.00\n",
            "(217, 211) 1.00\n",
            "(217, 216) 1.00\n",
            "(217, 218) 1.00\n",
            "(218, 147) 90.50\n",
            "(218, 153) 86.50\n",
            "(218, 162) 1.00\n",
            "(218, 163) 1.00\n",
            "(218, 190) 1.00\n",
            "(218, 191) 1.00\n",
            "(218, 192) 1.00\n",
            "(218, 206) 1.00\n",
            "(218, 207) 1.00\n",
            "(218, 208) 1.00\n",
            "(218, 209) 1.00\n",
            "(218, 211) 1.00\n",
            "(218, 216) 1.00\n",
            "(218, 217) 1.00\n",
            "(219, 215) 1.00\n",
            "(220, 221) 1.00\n",
            "(221, 220) 1.00\n",
            "CPU times: user 287 ms, sys: 49.4 ms, total: 337 ms\n",
            "Wall time: 39.4 s\n"
          ]
        }
      ],
      "source": [
        "%%time\n",
        "!python parallel.py"
      ]
    },
    {
      "cell_type": "markdown",
      "metadata": {
        "id": "GrMMRrMTib-e"
      },
      "source": [
        "#### Kiểm tra độ chính xác"
      ]
    }
  ],
  "metadata": {
    "accelerator": "GPU",
    "colab": {
      "collapsed_sections": [
        "Nep8r29LRCLF",
        "jQ3u7c8IRQp6",
        "_yioyezSRqdR",
        "DH5CS8WbR5In",
        "wAVjh-ESi6nL",
        "Tl2cDv-0g2xE",
        "J9K4aZ0HibpW",
        "GrMMRrMTib-e",
        "fmZorj7eiqe3",
        "cCCBMIBsiqfS",
        "s82Li6NViqfT",
        "sL6ENB4BiqfU",
        "qkeEFaVDiqfU",
        "iy3qnB3kiqfU"
      ],
      "name": "Report.ipynb",
      "provenance": []
    },
    "kernelspec": {
      "display_name": "Python 3",
      "language": "python",
      "name": "python3"
    },
    "language_info": {
      "codemirror_mode": {
        "name": "ipython",
        "version": 3
      },
      "file_extension": ".py",
      "mimetype": "text/x-python",
      "name": "python",
      "nbconvert_exporter": "python",
      "pygments_lexer": "ipython3",
      "version": "3.8.3"
    },
    "toc": {
      "base_numbering": 1,
      "nav_menu": {},
      "number_sections": true,
      "sideBar": true,
      "skip_h1_title": false,
      "title_cell": "Table of Contents",
      "title_sidebar": "Contents",
      "toc_cell": false,
      "toc_position": {},
      "toc_section_display": true,
      "toc_window_display": false
    }
  },
  "nbformat": 4,
  "nbformat_minor": 0
}