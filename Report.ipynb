{
  "nbformat": 4,
  "nbformat_minor": 0,
  "metadata": {
    "colab": {
      "name": "Report.ipynb",
      "provenance": [],
      "collapsed_sections": [],
      "toc_visible": true
    },
    "kernelspec": {
      "name": "python3",
      "display_name": "Python 3"
    },
    "language_info": {
      "name": "python"
    }
  },
  "cells": [
    {
      "cell_type": "markdown",
      "source": [
        "# Đồ án môn Lập trình song song ứng dụng\n",
        "**Giảng viên: Thầy Trần Trung Kiên**\n",
        "\n",
        "## Thông tin nhóm\n",
        "### STT: Nhóm 1\n",
        "\n",
        "### Thành viên:\n",
        "1. 1712892 - Nguyễn Thị Tuyết\n",
        "2. 1712284 - Hoàng Gia Bảo\n",
        "3. 1712685 - Trần Huy Phượng"
      ],
      "metadata": {
        "id": "2J5uUBWYCvUv"
      }
    },
    {
      "cell_type": "markdown",
      "source": [
        "## 1. Mô tả ứng dụng"
      ],
      "metadata": {
        "id": "hEVeTMU5npM2"
      }
    },
    {
      "cell_type": "markdown",
      "source": [
        "Tên ứng dụng: **Phát hiện cộng đồng trong mạng xã hội bằng thuật toán Girvan Newman**\n",
        "\n",
        "* Input: Đồ thị vô hướng, không trọng số\n",
        "\n",
        "* Output: Tập hợp các cộng đồng được phát hiện - mỗi cộng đồng được thể hiện là list các node\n",
        "\n",
        "* Ý nghĩa thực tế: có rất nhiều, ví dụ một số ứng dụng:\n",
        "  * Tiếp thị: xác định các cụm khách hàng có chung sở thích trong một mạng thể hiện quan hệ giữa người mua và sản phẩm trên sàn thương mại điện tử để xây dựng hệ thống tư vấn hiệu quả\n",
        "  * Kết bạn, mở rộng mối quan hệ\n",
        "  * ...\n"
      ],
      "metadata": {
        "id": "PpmktJnvoIjg"
      }
    },
    {
      "cell_type": "markdown",
      "source": [
        "Ứng dụng này cần phải được tăng tốc do vì khi recommend 1 sản phẩm cho khách hàng, ta cần thời gian nhanh để đem lại trải nghiệm tốt nhất cho khách hàng. Trong khi đó thuật toán Girvan Newman có thời gian thực thi khá chậm nên việc song song hóa là rất cần thiết."
      ],
      "metadata": {
        "id": "wR_pkK72nt3V"
      }
    },
    {
      "cell_type": "markdown",
      "source": [
        "# 2. Tiền xử lí dữ liệu"
      ],
      "metadata": {
        "id": "v0zExWhnQgvE"
      }
    },
    {
      "cell_type": "markdown",
      "source": [
        "##2.1. Tải dữ liệu"
      ],
      "metadata": {
        "id": "Q4IMY7nSQrOf"
      }
    },
    {
      "cell_type": "code",
      "source": [
        "!wget https://raw.githubusercontent.com/mansiganatra/Girvan-Newman-Implementation-using-Spark/master/ub_sample_data.csv"
      ],
      "metadata": {
        "id": "Oi3rHcAhQ2dw",
        "outputId": "895c33a0-597a-461d-a819-535f10eddc5d",
        "colab": {
          "base_uri": "https://localhost:8080/"
        }
      },
      "execution_count": 1,
      "outputs": [
        {
          "output_type": "stream",
          "name": "stdout",
          "text": [
            "--2022-04-25 05:48:32--  https://raw.githubusercontent.com/mansiganatra/Girvan-Newman-Implementation-using-Spark/master/ub_sample_data.csv\n",
            "Resolving raw.githubusercontent.com (raw.githubusercontent.com)... 185.199.108.133, 185.199.109.133, 185.199.111.133, ...\n",
            "Connecting to raw.githubusercontent.com (raw.githubusercontent.com)|185.199.108.133|:443... connected.\n",
            "HTTP request sent, awaiting response... 200 OK\n",
            "Length: 1777828 (1.7M) [text/plain]\n",
            "Saving to: ‘ub_sample_data.csv’\n",
            "\n",
            "ub_sample_data.csv  100%[===================>]   1.70M  --.-KB/s    in 0.07s   \n",
            "\n",
            "2022-04-25 05:48:33 (25.1 MB/s) - ‘ub_sample_data.csv’ saved [1777828/1777828]\n",
            "\n"
          ]
        }
      ]
    },
    {
      "cell_type": "code",
      "source": [
        "import csv"
      ],
      "metadata": {
        "id": "Gxt4s7PuQ6D6"
      },
      "execution_count": 3,
      "outputs": []
    },
    {
      "cell_type": "code",
      "source": [
        "fileData = []\n",
        "header = []\n",
        "with open('ub_sample_data.csv', newline ='') as csvfile:\n",
        "    file = csv.reader(csvfile, delimiter=',')\n",
        "    for row in file:\n",
        "        if not header:\n",
        "            header.append(row)\n",
        "            continue\n",
        "        fileData.append(row)\n",
        "    csvfile.close()"
      ],
      "metadata": {
        "id": "g44vFsVmQ7FE"
      },
      "execution_count": 4,
      "outputs": []
    },
    {
      "cell_type": "markdown",
      "source": [
        "## 2.2. Tạo graph từ input"
      ],
      "metadata": {
        "id": "Nep8r29LRCLF"
      }
    },
    {
      "cell_type": "markdown",
      "source": [
        "### Tạo graph"
      ],
      "metadata": {
        "id": "jQ3u7c8IRQp6"
      }
    },
    {
      "cell_type": "code",
      "source": [
        "filterThreshold = 7\n",
        "setUsers = {}\n",
        "\n",
        "for [user, item] in fileData:\n",
        "    if user not in setUsers:\n",
        "        setUsers[user] = {item}\n",
        "    else:\n",
        "        setUsers[user].add(item)\n",
        "\n",
        "gPyObject = {}\n",
        "\n",
        "# filter and make adjacency list of graph\n",
        "for user1, item1 in setUsers.items():\n",
        "    for user2, item2 in setUsers.items():\n",
        "        if user1 == user2: continue\n",
        "        if(len(item1 & item2) >= filterThreshold):\n",
        "            if user1 not in gPyObject:\n",
        "                gPyObject[user1] = [user2]\n",
        "            else:\n",
        "                gPyObject[user1].append(user2)\n",
        "cnt = 0\n",
        "for key, val in gPyObject.items():\n",
        "    print(key, val)\n",
        "    cnt += 1\n",
        "    if cnt == 5:\n",
        "        break"
      ],
      "metadata": {
        "id": "u7iCvy85RiPh"
      },
      "execution_count": null,
      "outputs": []
    },
    {
      "cell_type": "markdown",
      "source": [
        "### Thay đổi định dạng user từ string sang integer"
      ],
      "metadata": {
        "id": "_yioyezSRqdR"
      }
    },
    {
      "cell_type": "code",
      "source": [
        "transferUser = {}\n",
        "cnt = 0\n",
        "for key in gPyObject.keys():\n",
        "    transferUser[key] = cnt\n",
        "    cnt += 1\n",
        "g = [[] for _ in range(cnt)]\n",
        "for key, val in gPyObject.items():\n",
        "    user1 = transferUser[key]\n",
        "    for it in val:\n",
        "        user2 = transferUser[it]\n",
        "        g[user1].append(user2)\n",
        "g[:5]"
      ],
      "metadata": {
        "id": "1vaYPTKGR2GS"
      },
      "execution_count": null,
      "outputs": []
    },
    {
      "cell_type": "markdown",
      "source": [
        "### Ghi graph ra file"
      ],
      "metadata": {
        "id": "DH5CS8WbR5In"
      }
    },
    {
      "cell_type": "code",
      "source": [
        "with open('graph.txt', \"w+\") as fp:\n",
        "    fp.write(str(cnt))\n",
        "    fp.write(\"\\n\")\n",
        "    for i in g:\n",
        "        line = \" \".join([str(item) for item in i])\n",
        "        fp.write(line)\n",
        "        fp.write(\"\\n\")\n",
        "\n",
        "    fp.close()"
      ],
      "metadata": {
        "id": "ei3VXBSnSA1l"
      },
      "execution_count": null,
      "outputs": []
    },
    {
      "cell_type": "markdown",
      "source": [
        "# 3. Cài đặt tuần tự"
      ],
      "metadata": {
        "id": "dwyKU-r0hxVS"
      }
    },
    {
      "cell_type": "markdown",
      "source": [
        "## 3.1. Thiết kế"
      ],
      "metadata": {
        "id": "wAVjh-ESi6nL"
      }
    },
    {
      "cell_type": "markdown",
      "source": [
        "Các bước thực hiện:\n",
        "1. Xác định độ đo betweenness cho các cạnh trong đồ thị bằng thuật toán Girvan Newman\n",
        "2. Loại bỏ cạnh có betweenness lớn nhất khỏi graph\n",
        "3. Tính độ đo modularity để lưu lại cách chia communities tốt nhất\n",
        "4. Thực hiện lại bước 2 đến khi không còn cạnh nào"
      ],
      "metadata": {
        "id": "rO2PhAp9V4c5"
      }
    },
    {
      "cell_type": "markdown",
      "source": [
        "https://colab.research.google.com/drive/1R2Gt2wPEeEL-9_kGfXJRUy24zv1APglX?usp=sharing"
      ],
      "metadata": {
        "id": "YBYuZGXbaAYn"
      }
    },
    {
      "cell_type": "markdown",
      "source": [
        "## 2.2. Đánh giá"
      ],
      "metadata": {
        "id": "JXAWuEWSi-rq"
      }
    },
    {
      "cell_type": "markdown",
      "source": [
        "####Độ đo modularity:\n",
        "sử dụng công thức trên networkx để đánh giá cách chia communities \\\n",
        "####Kiểm tra độ chính xác: \n",
        "Kết quả chia communities tốt nhất với kết quả chạy bằng thư viện networkx\n",
        "####Thời gian chạy:\n",
        "Thực hiện 2 version: \\\n",
        "    + ver1: code python bình thường và thêm decorator @jit \\\n",
        "    + ver2: chuyển code về sử dụng mảng numpy và sử dụng decorator @jit(nopython=True)"
      ],
      "metadata": {
        "id": "Dgafl808jgQs"
      }
    },
    {
      "cell_type": "markdown",
      "source": [
        "# Mục mới"
      ],
      "metadata": {
        "id": "CDV2YK7OhxYh"
      }
    }
  ]
}