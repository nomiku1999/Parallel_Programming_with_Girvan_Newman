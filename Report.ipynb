{
  "cells": [
    {
      "cell_type": "markdown",
      "metadata": {
        "id": "2J5uUBWYCvUv"
      },
      "source": [
        "# Đồ án môn Lập trình song song ứng dụng\n",
        "**Giảng viên: Thầy Trần Trung Kiên**\n",
        "\n",
        "## Thông tin nhóm\n",
        "### STT: Nhóm 1\n",
        "\n",
        "### Thành viên:\n",
        "1. 1712284 - Hoàng Gia Bảo\n",
        "2. 1712685 - Trần Huy Phượng"
      ]
    },
    {
      "cell_type": "markdown",
      "metadata": {
        "id": "hEVeTMU5npM2"
      },
      "source": [
        "## 1. Mô tả ứng dụng"
      ]
    },
    {
      "cell_type": "markdown",
      "metadata": {
        "id": "PpmktJnvoIjg"
      },
      "source": [
        "Tên ứng dụng: **Phát hiện cộng đồng trong mạng xã hội bằng thuật toán Girvan Newman**\n",
        "\n",
        "* Input: Đồ thị vô hướng, không trọng số\n",
        "\n",
        "* Output: Tập hợp các cộng đồng được phát hiện - mỗi cộng đồng được thể hiện là list các node\n",
        "\n",
        "* Ý nghĩa thực tế: có rất nhiều, ví dụ một số ứng dụng:\n",
        "  * Tiếp thị: xác định các cụm khách hàng có chung sở thích trong một mạng thể hiện quan hệ giữa người mua và sản phẩm trên sàn thương mại điện tử để xây dựng hệ thống tư vấn hiệu quả\n",
        "  * Kết bạn, mở rộng mối quan hệ\n",
        "  * ...\n"
      ]
    },
    {
      "cell_type": "markdown",
      "metadata": {
        "id": "8l89mOTouAqs"
      },
      "source": [
        "Khái niệm cộng đồng, được định nghĩa là tập các thực thể có những tính chất \n",
        "tương tự nhau hoặc cùng đóng một vai trò trong một mạng xã hội. "
      ]
    },
    {
      "cell_type": "markdown",
      "source": [
        "Hình dưới đây thể hiện ví dụ về output của bài toán"
      ],
      "metadata": {
        "id": "PPzr_k2JmuZi"
      }
    },
    {
      "cell_type": "code",
      "source": [
        "%%html\n",
        "<img src='https://drive.google.com/uc?export=view&amp;id=1COUG0WrM545iqLHDcBYtjD0PkYNc5arQ'/>"
      ],
      "metadata": {
        "colab": {
          "base_uri": "https://localhost:8080/",
          "height": 600
        },
        "id": "OfloNmXdmfU6",
        "outputId": "31881185-3d5e-4023-afe2-3110670a1bc2"
      },
      "execution_count": null,
      "outputs": [
        {
          "output_type": "display_data",
          "data": {
            "text/plain": [
              "<IPython.core.display.HTML object>"
            ],
            "text/html": [
              "<img src='https://drive.google.com/uc?export=view&amp;id=1COUG0WrM545iqLHDcBYtjD0PkYNc5arQ'/>"
            ]
          },
          "metadata": {}
        }
      ]
    },
    {
      "cell_type": "markdown",
      "metadata": {
        "id": "wR_pkK72nt3V"
      },
      "source": [
        "Ứng dụng này cần phải được tăng tốc do vì khi recommend 1 sản phẩm cho khách hàng, ta cần thời gian nhanh để đem lại trải nghiệm tốt nhất cho khách hàng. \\\n",
        "Trong khi đó thuật toán Girvan Newman có thời gian thực thi khá chậm trong đó việc tính betweenness chiếm phần lớn thời gian nên nhóm đã quyết định song song hóa phần này."
      ]
    },
    {
      "cell_type": "markdown",
      "metadata": {
        "id": "v0zExWhnQgvE"
      },
      "source": [
        "## 2. Tiền xử lí dữ liệu"
      ]
    },
    {
      "cell_type": "markdown",
      "metadata": {
        "id": "Q4IMY7nSQrOf"
      },
      "source": [
        "### 1. Tải dữ liệu"
      ]
    },
    {
      "cell_type": "code",
      "execution_count": null,
      "metadata": {
        "id": "Oi3rHcAhQ2dw"
      },
      "outputs": [],
      "source": [
        "!wget https://raw.githubusercontent.com/mansiganatra/Girvan-Newman-Implementation-using-Spark/master/ub_sample_data.csv"
      ]
    },
    {
      "cell_type": "code",
      "execution_count": null,
      "metadata": {
        "id": "Gxt4s7PuQ6D6"
      },
      "outputs": [],
      "source": [
        "import csv"
      ]
    },
    {
      "cell_type": "code",
      "execution_count": null,
      "metadata": {
        "id": "g44vFsVmQ7FE"
      },
      "outputs": [],
      "source": [
        "fileData = []\n",
        "header = []\n",
        "with open('ub_sample_data.csv', newline ='') as csvfile:\n",
        "    file = csv.reader(csvfile, delimiter=',')\n",
        "    for row in file:\n",
        "        if not header:\n",
        "            header.append(row)\n",
        "            continue\n",
        "        fileData.append(row)\n",
        "    csvfile.close()"
      ]
    },
    {
      "cell_type": "markdown",
      "metadata": {
        "id": "Nep8r29LRCLF"
      },
      "source": [
        "### 2. Tạo graph từ input"
      ]
    },
    {
      "cell_type": "markdown",
      "metadata": {
        "id": "jQ3u7c8IRQp6"
      },
      "source": [
        "#### Tạo graph"
      ]
    },
    {
      "cell_type": "code",
      "execution_count": null,
      "metadata": {
        "id": "u7iCvy85RiPh"
      },
      "outputs": [],
      "source": [
        "filterThreshold = 7\n",
        "setUsers = {}\n",
        "\n",
        "for [user, item] in fileData:\n",
        "    if user not in setUsers:\n",
        "        setUsers[user] = {item}\n",
        "    else:\n",
        "        setUsers[user].add(item)\n",
        "\n",
        "gPyObject = {}\n",
        "\n",
        "# filter and make adjacency list of graph\n",
        "for user1, item1 in setUsers.items():\n",
        "    for user2, item2 in setUsers.items():\n",
        "        if user1 == user2: continue\n",
        "        if(len(item1 & item2) >= filterThreshold):\n",
        "            if user1 not in gPyObject:\n",
        "                gPyObject[user1] = [user2]\n",
        "            else:\n",
        "                gPyObject[user1].append(user2)\n",
        "cnt = 0\n",
        "for key, val in gPyObject.items():\n",
        "    print(key, val)\n",
        "    cnt += 1\n",
        "    if cnt == 5:\n",
        "        break"
      ]
    },
    {
      "cell_type": "markdown",
      "metadata": {
        "id": "_yioyezSRqdR"
      },
      "source": [
        "#### Thay đổi định dạng user từ string sang integer"
      ]
    },
    {
      "cell_type": "code",
      "execution_count": null,
      "metadata": {
        "id": "1vaYPTKGR2GS"
      },
      "outputs": [],
      "source": [
        "transferUser = {}\n",
        "cnt = 0\n",
        "for key in gPyObject.keys():\n",
        "    transferUser[key] = cnt\n",
        "    cnt += 1\n",
        "g = [[] for _ in range(cnt)]\n",
        "for key, val in gPyObject.items():\n",
        "    user1 = transferUser[key]\n",
        "    for it in val:\n",
        "        user2 = transferUser[it]\n",
        "        g[user1].append(user2)\n",
        "g[:5]"
      ]
    },
    {
      "cell_type": "markdown",
      "metadata": {
        "id": "DH5CS8WbR5In"
      },
      "source": [
        "#### Ghi graph ra file"
      ]
    },
    {
      "cell_type": "code",
      "execution_count": null,
      "metadata": {
        "id": "ei3VXBSnSA1l"
      },
      "outputs": [],
      "source": [
        "with open('graph.txt', \"w+\") as fp:\n",
        "    fp.write(str(cnt))\n",
        "    fp.write(\"\\n\")\n",
        "    for i in g:\n",
        "        line = \" \".join([str(item) for item in i])\n",
        "        fp.write(line)\n",
        "        fp.write(\"\\n\")\n",
        "\n",
        "    fp.close()"
      ]
    },
    {
      "cell_type": "markdown",
      "metadata": {
        "id": "dwyKU-r0hxVS"
      },
      "source": [
        "## 3. Cài đặt tuần tự"
      ]
    },
    {
      "cell_type": "markdown",
      "metadata": {
        "id": "mGGFY8xiwE4Z"
      },
      "source": [
        "Các yêu cầu cơ bản của một thuật toán phát hiện cộng đồng nói chung đó là nó phải tự chỉ được ra một phép phân chia tự nhiên giữa các đỉnh mà không đòi hỏi người ta phải xác định số cộng đồng nên có là bao nhiêu, hay giới hạn trong kích thước của các cộng đồng"
      ]
    },
    {
      "cell_type": "markdown",
      "metadata": {
        "id": "8YFOvFEWvGJJ"
      },
      "source": [
        "### 0. Giới thiệu thuật toán Girvan-Newman"
      ]
    },
    {
      "cell_type": "markdown",
      "metadata": {
        "id": "QKwyceqAvPNr"
      },
      "source": [
        "- Là thuật toán điển hình nhất trong các thuật toán phân chia đồ thị do nó có  ý nghĩa về mặt lịch sử (đánh dấu bước khởi đầu của một thời kỳ mới trong sự phát triển của phát hiện cộng đồng)\n",
        "- Đây là một phương pháp chia nhỏ, trong đó các cạnh được loại bỏ dần dần ra khỏi đồ thị\n",
        "- Các cạnh loại bỏ trong mỗi bước được xác định qua một độ đo trung gian (gọi là betweeness centrality)\n",
        "- Sau khi loại bỏ mỗi cạnh, độ đo trung gian của các cạnh còn lại sẽ được tính lại dựa vào cạnh bị loại bỏ đó"
      ]
    },
    {
      "cell_type": "code",
      "source": [
        "%%html\n",
        "<img src='https://drive.google.com/uc?export=view&amp;id=1lRwfBzDtRg0e7D5UIHQ09r84JeDISF-7'/>"
      ],
      "metadata": {
        "colab": {
          "base_uri": "https://localhost:8080/",
          "height": 470
        },
        "id": "fNbWvrrsm8BL",
        "outputId": "54460b01-7090-444e-aa2c-bfc1d061d955"
      },
      "execution_count": null,
      "outputs": [
        {
          "output_type": "display_data",
          "data": {
            "text/plain": [
              "<IPython.core.display.HTML object>"
            ],
            "text/html": [
              "<img src='https://drive.google.com/uc?export=view&amp;id=1lRwfBzDtRg0e7D5UIHQ09r84JeDISF-7'/>"
            ]
          },
          "metadata": {}
        }
      ]
    },
    {
      "cell_type": "markdown",
      "metadata": {
        "id": "TPJhE16xSCmX"
      },
      "source": [
        "Betweeness Centrality (tạm dịch: mức độ tập trung) là một độ đo để thể hiện mức độ ảnh hưởng của một cạnh đối với luồng thông tin trong đồ thị. Nó thường được sử dụng để tìm các cạnh đóng vai trò là cầu nối từ phần này sang phần khác của đồ thị. "
      ]
    },
    {
      "cell_type": "code",
      "source": [
        "%%html\n",
        "<img src='https://drive.google.com/uc?export=view&amp;id=1kv2-5XsuvzbKuCxUkLW31P-AqBWP-DRi'/>"
      ],
      "metadata": {
        "colab": {
          "base_uri": "https://localhost:8080/",
          "height": 520
        },
        "id": "8r6QZDPCSQ-3",
        "outputId": "39807660-0aff-448a-93cd-ade6dcde546c"
      },
      "execution_count": null,
      "outputs": [
        {
          "output_type": "display_data",
          "data": {
            "text/plain": [
              "<IPython.core.display.HTML object>"
            ],
            "text/html": [
              "<img src='https://drive.google.com/uc?export=view&amp;id=1kv2-5XsuvzbKuCxUkLW31P-AqBWP-DRi'/>"
            ]
          },
          "metadata": {}
        }
      ]
    },
    {
      "cell_type": "markdown",
      "source": [
        "#### Đánh giá cách phân chia cộng đồng"
      ],
      "metadata": {
        "id": "1VZwvSibCbBv"
      }
    },
    {
      "cell_type": "markdown",
      "source": [
        "Để đánh giá một cách phân chia cộng đồng là tốt hay không, thì ta sẽ dựa vào độ đo Modularity(Q)\n",
        "\n",
        "Đồ thị có giá trị Modularity cao sẽ có dày đặc các kết nối giữa các nút trong cùng một cộng đồng, nhưng sẽ có thưa thớt kết nối giữa các nút trong các cộng đồng khác nhau\n",
        "\n",
        "--> Giá trị Modularity càng cao thì cách phân chia cộng đồng đó càng tốt"
      ],
      "metadata": {
        "id": "wDRseSS2Czb1"
      }
    },
    {
      "cell_type": "markdown",
      "source": [
        "Biểu thức toán học độ đo Modularity"
      ],
      "metadata": {
        "id": "X4UBGF0tKmIU"
      }
    },
    {
      "cell_type": "markdown",
      "source": [
        "$$ Q = \\frac{1}{2m} \\sum_{ij} ( A_{ij}- \\frac{k_i k_j}{2m}) \\delta(C_i,C_j)$$ \\\n",
        "Trong đó:\n",
        "- $m$: số lượng cạnh của đồ thị ban đầu\n",
        "- $A_{ij}$: bằng 1 nếu cạnh i có kết nối với cạnh j, 0 nếu ngược lại (A là ma trận kề biểu diễn đồ thị)\n",
        "- $k_i$, $k_j$: bậc của đỉnh i và j ở đồ thị ban đầu\n",
        "- $\\delta(C_i, C_j)$: bằng 1 nếu đỉnh i và j cùng thuộc 1 cộng đồng, bằng 0 nếu ngược lại"
      ],
      "metadata": {
        "id": "XOgKtAp9HOBy"
      }
    },
    {
      "cell_type": "markdown",
      "source": [
        "Miền giá trị của $Q \\in [-0.5, 1]$\n",
        "\n",
        "Trong bài toán thực tế, giá trị Modularity cao nhất thường $\\in [0.3, 0.7]$"
      ],
      "metadata": {
        "id": "_SErotahP3eZ"
      }
    },
    {
      "cell_type": "markdown",
      "metadata": {
        "id": "wAVjh-ESi6nL"
      },
      "source": [
        "### 1. Thiết kế"
      ]
    },
    {
      "cell_type": "markdown",
      "metadata": {
        "id": "rO2PhAp9V4c5"
      },
      "source": [
        "Các bước thực hiện Girvan-Newman:\n",
        "1. Xác định độ đo betweenness cho các cạnh trong đồ thị bằng thuật toán Girvan Newman\n",
        "2. Loại bỏ cạnh có betweenness lớn nhất khỏi graph\n",
        "3. Thực hiện lại bước 2 đến khi không còn cạnh nào"
      ]
    },
    {
      "cell_type": "markdown",
      "source": [
        "Các bước thực hiện thuật toán tính betweenness:\n",
        "1. Thực hiện BFS (Breadth-first search) để xác định khoảng cách ngắn nhất tới đỉnh gốc và số đỉnh cha của mỗi đỉnh\n",
        "2. Duyệt các đỉnh theo thứ tự khoảng cách từ xa nhất tới đỉnh gốc, tại mỗi đỉnh tính điểm betweenness cho đỉnh cha."
      ],
      "metadata": {
        "id": "67qcAxApmoks"
      }
    },
    {
      "cell_type": "markdown",
      "metadata": {
        "id": "JXAWuEWSi-rq"
      },
      "source": [
        "### 2. Đánh giá"
      ]
    },
    {
      "cell_type": "markdown",
      "metadata": {
        "id": "kxLcIQpnh94F"
      },
      "source": [
        "#### Kịch bản thí nghiệm"
      ]
    },
    {
      "cell_type": "markdown",
      "source": [
        "Sử dụng 3 bộ dữ liệu:\n",
        "- Bộ dữ liệu 1: \n",
        "  - 500 đỉnh\n",
        "  - 75699 cạnh\n",
        "- Bộ dữ liệu 2:\n",
        "  - 1000 đỉnh\n",
        "  - 303263 cạnh\n",
        "- Bộ dữ liệu 3:\n",
        "  - 2000 đỉnh\n",
        "  - 1556977 cạnh"
      ],
      "metadata": {
        "id": "_9vz6_BeoqVj"
      }
    },
    {
      "cell_type": "markdown",
      "metadata": {
        "id": "Dgafl808jgQs"
      },
      "source": [
        "Thực hiện 2 version: \\\n",
        "    + ver1: code python bình thường \\\n",
        "    + ver2: chuyển code về sử dụng mảng numpy và sử dụng decorator @jit(nopython=True)"
      ]
    },
    {
      "cell_type": "markdown",
      "metadata": {
        "id": "p3xvMITv-JO9"
      },
      "source": [
        "##### Version 1"
      ]
    },
    {
      "cell_type": "code",
      "execution_count": null,
      "metadata": {
        "id": "Z6je_6WAXRji"
      },
      "outputs": [],
      "source": [
        "%%time\n",
        "!python sequence.py"
      ]
    },
    {
      "cell_type": "markdown",
      "metadata": {
        "id": "xG3qF-kg-xGM"
      },
      "source": [
        "##### Version 2"
      ]
    },
    {
      "cell_type": "code",
      "execution_count": null,
      "metadata": {
        "id": "Ib-XfJ8lXR9B"
      },
      "outputs": [],
      "source": [
        "%%time\n",
        "!python sequenceDecoratorJit.py"
      ]
    },
    {
      "cell_type": "markdown",
      "metadata": {
        "id": "vxNMJ9KkiIy7"
      },
      "source": [
        "#### Kiểm tra độ chính xác\n"
      ]
    },
    {
      "cell_type": "markdown",
      "metadata": {
        "id": "qp-9NcG3kwhU"
      },
      "source": [
        "Kiểm tra độ chính xác bằng thư viện NetworkX"
      ]
    },
    {
      "cell_type": "code",
      "execution_count": null,
      "metadata": {
        "id": "K71uQVUNXfry"
      },
      "outputs": [],
      "source": [
        "%%time\n",
        "!python testNetworkx.py"
      ]
    },
    {
      "cell_type": "markdown",
      "source": [
        "#### Nhận xét"
      ],
      "metadata": {
        "id": "uLrdaize78Vt"
      }
    },
    {
      "cell_type": "markdown",
      "source": [
        "- Cài đặt tuần tự có thời gian chạy gần bằng với thư viện networkX: khoảng 20s\n",
        "- Cài đặt tuần tự có decorator @jit(nopython=True) có thời gian chạy rất nhanh: khoảng 2.5s"
      ],
      "metadata": {
        "id": "J0PY7I3Y7-z9"
      }
    },
    {
      "cell_type": "markdown",
      "metadata": {
        "id": "CDV2YK7OhxYh"
      },
      "source": [
        "## Cài đặt song song"
      ]
    },
    {
      "cell_type": "markdown",
      "metadata": {
        "id": "Tl2cDv-0g2xE"
      },
      "source": [
        "### 1. Thiết kế"
      ]
    },
    {
      "cell_type": "markdown",
      "source": [
        "Chia thành nhiều hàm kernel nhỏ để thực hiện các bước giống cài đặt tuần tự:\n",
        "1. Thực hiện BFS (Breadth-first search) để xác định khoảng cách ngắn nhất tới đỉnh gốc và số đỉnh cha của mỗi đỉnh: Hàm kernel levelAndParent_Kernel và putInQueue_Kernel\n",
        "2. Duyệt các đỉnh theo thứ tự khoảng cách từ xa nhất tới đỉnh gốc, tại mỗi đỉnh tính điểm betweenness cho đỉnh cha: countBetweenness_Kernel, markVisited_Kernel, putLowerLevel_Kernel"
      ],
      "metadata": {
        "id": "yb93S_pfkMRR"
      }
    },
    {
      "cell_type": "markdown",
      "metadata": {
        "id": "8yHYuHDmhad-"
      },
      "source": [
        "### 2. Đánh giá"
      ]
    },
    {
      "cell_type": "markdown",
      "metadata": {
        "id": "J9K4aZ0HibpW"
      },
      "source": [
        "#### Kịch bản thí nghiệm"
      ]
    },
    {
      "cell_type": "markdown",
      "source": [
        "Sử dụng chung bộ dữ liệu với cài đặt tuần tự"
      ],
      "metadata": {
        "id": "Cj9O_pK0nzWx"
      }
    },
    {
      "cell_type": "markdown",
      "metadata": {
        "id": "zzuXblpuibxm"
      },
      "source": [
        "#### Chạy code và xem kết quả"
      ]
    },
    {
      "cell_type": "code",
      "source": [
        "!nvidia-smi"
      ],
      "metadata": {
        "id": "oMUfFlWNVPM0"
      },
      "execution_count": null,
      "outputs": []
    },
    {
      "cell_type": "code",
      "execution_count": null,
      "metadata": {
        "id": "0odi0OUUXa6r"
      },
      "outputs": [],
      "source": [
        "%%time\n",
        "!python parallel.py"
      ]
    },
    {
      "cell_type": "markdown",
      "metadata": {
        "id": "GrMMRrMTib-e"
      },
      "source": [
        "#### Kiểm tra độ chính xác"
      ]
    },
    {
      "cell_type": "markdown",
      "source": [
        "#### Nhận xét"
      ],
      "metadata": {
        "id": "d-f0H4Cg9Lf3"
      }
    },
    {
      "cell_type": "markdown",
      "source": [
        "Đã cho kết quả chính xác nhưng thời gian chạy rất chậm so với cài đặt tuần tự."
      ],
      "metadata": {
        "id": "TIH05M90vQLr"
      }
    },
    {
      "cell_type": "markdown",
      "source": [
        "## Tối ưu hóa phiên bản song song"
      ],
      "metadata": {
        "id": "rFYw56Ke9RSR"
      }
    },
    {
      "cell_type": "markdown",
      "source": [
        "### 1. Thiết kế"
      ],
      "metadata": {
        "id": "uW2YlnocpTeK"
      }
    },
    {
      "cell_type": "markdown",
      "source": [
        "Kiểm tra lí do code song song chạy chậm"
      ],
      "metadata": {
        "id": "YQVemB2qpa8j"
      }
    },
    {
      "cell_type": "code",
      "source": [
        "!nvprof --print-gpu-trace python parallel.py"
      ],
      "metadata": {
        "id": "JY0Y6ZtUpePI"
      },
      "execution_count": null,
      "outputs": []
    },
    {
      "cell_type": "markdown",
      "source": [
        "--> Code song song chậm do quá trình chuyển dữ liệu từ host sang device, device sang host \\\n",
        "--> Loại bỏ các quá trình này để tăng tốc chương trình"
      ],
      "metadata": {
        "id": "SwFASx3bphaz"
      }
    },
    {
      "cell_type": "markdown",
      "source": [
        "### 2. Đánh giá"
      ],
      "metadata": {
        "id": "UgcxRq-PpVdr"
      }
    },
    {
      "cell_type": "markdown",
      "source": [
        "#### Kịch bản thí nghiệm"
      ],
      "metadata": {
        "id": "CUSnOf8wrpT2"
      }
    },
    {
      "cell_type": "markdown",
      "source": [
        "Sử dụng chung bộ dữ liệu với cài đặt tuần tự"
      ],
      "metadata": {
        "id": "JGfPtOeWrx0S"
      }
    },
    {
      "cell_type": "markdown",
      "source": [
        "#### Chạy code và xem kết quả"
      ],
      "metadata": {
        "id": "KKeedGPwrwxi"
      }
    },
    {
      "cell_type": "code",
      "source": [
        "%%time\n",
        "!python parallel_optim_v1.py"
      ],
      "metadata": {
        "id": "YlLa0RU5Yeya"
      },
      "execution_count": null,
      "outputs": []
    },
    {
      "cell_type": "code",
      "source": [
        "!nvprof --print-gpu-trace python parallel_optim_v1.py"
      ],
      "metadata": {
        "id": "W9n4ItcbYkVt"
      },
      "execution_count": null,
      "outputs": []
    },
    {
      "cell_type": "code",
      "source": [
        "%%time\n",
        "!python parallel_optim_v2.py"
      ],
      "metadata": {
        "id": "VLfJQgAq_pui"
      },
      "execution_count": null,
      "outputs": []
    },
    {
      "cell_type": "code",
      "source": [
        "!nvprof --print-gpu-trace python parallel_optim_v2.py"
      ],
      "metadata": {
        "id": "U448urEJ_rIR"
      },
      "execution_count": null,
      "outputs": []
    },
    {
      "cell_type": "markdown",
      "source": [
        "Tổng hợp thời gian chạy các phiên bản:\n",
        "\n",
        "Bộ dữ liệu -- Tuần tự -- NetworkX -- Tuần tự jit -- Song song -- Song song tối ưu v1 -- Song song tối ưu v2\n",
        "\n",
        "    1   --  23s    --   23s    --  3s   --   1m4s   --   13s    --  10s\n",
        "\n",
        "    2   --  3m24s  --   3m35s  --  9s   --   5m35s  --   25s    --  20s\n",
        "    \n",
        "    3   --         --   34m15s --  1m7s --          --   1m5s   --  40s"
      ],
      "metadata": {
        "id": "xi1MhfisqF-5"
      }
    }
  ],
  "metadata": {
    "accelerator": "GPU",
    "colab": {
      "collapsed_sections": [
        "v0zExWhnQgvE"
      ],
      "name": "Report.ipynb",
      "provenance": [],
      "toc_visible": true
    },
    "kernelspec": {
      "display_name": "Python 3",
      "language": "python",
      "name": "python3"
    },
    "language_info": {
      "codemirror_mode": {
        "name": "ipython",
        "version": 3
      },
      "file_extension": ".py",
      "mimetype": "text/x-python",
      "name": "python",
      "nbconvert_exporter": "python",
      "pygments_lexer": "ipython3",
      "version": "3.8.3"
    },
    "toc": {
      "base_numbering": 1,
      "nav_menu": {},
      "number_sections": true,
      "sideBar": true,
      "skip_h1_title": false,
      "title_cell": "Table of Contents",
      "title_sidebar": "Contents",
      "toc_cell": false,
      "toc_position": {},
      "toc_section_display": true,
      "toc_window_display": false
    }
  },
  "nbformat": 4,
  "nbformat_minor": 0
}